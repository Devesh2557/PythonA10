{
  "nbformat": 4,
  "nbformat_minor": 0,
  "metadata": {
    "colab": {
      "provenance": [],
      "authorship_tag": "ABX9TyNMCVYxcOpffxDIe9GoStBn"
    },
    "kernelspec": {
      "name": "python3",
      "display_name": "Python 3"
    },
    "language_info": {
      "name": "python"
    }
  },
  "cells": [
    {
      "cell_type": "code",
      "execution_count": 1,
      "metadata": {
        "id": "FPp6jYzJOgjy"
      },
      "outputs": [],
      "source": [
        "# Nested loop"
      ]
    },
    {
      "cell_type": "code",
      "source": [
        "for i in range(3):\n",
        "  for j in range(3):\n",
        "    print(f\"i={i} ,j={j}\")"
      ],
      "metadata": {
        "colab": {
          "base_uri": "https://localhost:8080/"
        },
        "id": "xhzJ64xnPAte",
        "outputId": "d7de9e0a-feb5-416a-c3e1-0ef936cbef10"
      },
      "execution_count": 2,
      "outputs": [
        {
          "output_type": "stream",
          "name": "stdout",
          "text": [
            "i=0 ,j=0\n",
            "i=0 ,j=1\n",
            "i=0 ,j=2\n",
            "i=1 ,j=0\n",
            "i=1 ,j=1\n",
            "i=1 ,j=2\n",
            "i=2 ,j=0\n",
            "i=2 ,j=1\n",
            "i=2 ,j=2\n"
          ]
        }
      ]
    },
    {
      "cell_type": "code",
      "source": [
        "# i=(0,1,2)\n",
        "# j=(0,1,2)\n",
        "# i=0----->j=(0,1,2)\n",
        "# i=1----->j=(0,1,2)\n",
        "# i=2----->j=(0,1,2)"
      ],
      "metadata": {
        "id": "zMdHHh3dPOrj"
      },
      "execution_count": 3,
      "outputs": []
    },
    {
      "cell_type": "code",
      "source": [
        "# star pattern\n"
      ],
      "metadata": {
        "id": "bTO92TloQTDc"
      },
      "execution_count": 4,
      "outputs": []
    },
    {
      "cell_type": "code",
      "source": [
        "for i in range(1,6):\n",
        "  print(i*\"*\")"
      ],
      "metadata": {
        "colab": {
          "base_uri": "https://localhost:8080/"
        },
        "id": "M-r6I1TvQVVd",
        "outputId": "7f21306f-3229-433f-c392-f5366dabd062"
      },
      "execution_count": 6,
      "outputs": [
        {
          "output_type": "stream",
          "name": "stdout",
          "text": [
            "*\n",
            "**\n",
            "***\n",
            "****\n",
            "*****\n"
          ]
        }
      ]
    },
    {
      "cell_type": "code",
      "source": [
        "for i in range(5,0,-1):\n",
        "  print(i*\"*\")"
      ],
      "metadata": {
        "colab": {
          "base_uri": "https://localhost:8080/"
        },
        "id": "Q7IY-X4YQZTU",
        "outputId": "d5dbb809-85d9-4ec7-8df0-84344cac7e56"
      },
      "execution_count": 9,
      "outputs": [
        {
          "output_type": "stream",
          "name": "stdout",
          "text": [
            "*****\n",
            "****\n",
            "***\n",
            "**\n",
            "*\n"
          ]
        }
      ]
    },
    {
      "cell_type": "code",
      "source": [
        "for i in range(1,6):\n",
        "  for j in range(4,0,-1):\n",
        "    print(i*\"*\")"
      ],
      "metadata": {
        "colab": {
          "base_uri": "https://localhost:8080/"
        },
        "id": "8dE2uruFQgvF",
        "outputId": "c22c75a3-25fa-4678-c9db-783bfa7df1ee"
      },
      "execution_count": 10,
      "outputs": [
        {
          "output_type": "stream",
          "name": "stdout",
          "text": [
            "*\n",
            "*\n",
            "*\n",
            "*\n",
            "**\n",
            "**\n",
            "**\n",
            "**\n",
            "***\n",
            "***\n",
            "***\n",
            "***\n",
            "****\n",
            "****\n",
            "****\n",
            "****\n",
            "*****\n",
            "*****\n",
            "*****\n",
            "*****\n"
          ]
        }
      ]
    },
    {
      "cell_type": "code",
      "source": [
        "for i in range(1,6):\n",
        "  print(i*\"*\")\n",
        "for i in range(4,0,-1):\n",
        "  print(i*\"*\")"
      ],
      "metadata": {
        "colab": {
          "base_uri": "https://localhost:8080/"
        },
        "id": "pSEtNhhUQwp5",
        "outputId": "43053aeb-5d1f-49cd-94e9-6236119854e7"
      },
      "execution_count": 12,
      "outputs": [
        {
          "output_type": "stream",
          "name": "stdout",
          "text": [
            "*\n",
            "**\n",
            "***\n",
            "****\n",
            "*****\n",
            "****\n",
            "***\n",
            "**\n",
            "*\n"
          ]
        }
      ]
    },
    {
      "cell_type": "code",
      "source": [
        "n=5\n",
        "for i in range(1,n+1):\n",
        "  if i==1 or i==n:\n",
        "    print('*'*i)     #first or last row\n",
        "  else:\n",
        "    print('*'+' '*(i-2)+'*')"
      ],
      "metadata": {
        "colab": {
          "base_uri": "https://localhost:8080/"
        },
        "id": "KmhQAbttQ5vx",
        "outputId": "b3983b2e-5552-4320-c874-4ff486ece768"
      },
      "execution_count": 16,
      "outputs": [
        {
          "output_type": "stream",
          "name": "stdout",
          "text": [
            "*\n",
            "**\n",
            "* *\n",
            "*  *\n",
            "*****\n"
          ]
        }
      ]
    },
    {
      "cell_type": "code",
      "source": [
        "n=int(input(\"Enter the number:-\"))\n",
        "for i in range(1,n+1):\n",
        "  if i==1 or i==n:\n",
        "    print('*'*i)     #first or last row\n",
        "  else:\n",
        "    print('*'+' '*(i-2)+'*')"
      ],
      "metadata": {
        "colab": {
          "base_uri": "https://localhost:8080/"
        },
        "id": "UxBEhz1SSmJy",
        "outputId": "f9d02e2f-f6fd-48b4-f28d-347ee67f9c48"
      },
      "execution_count": 20,
      "outputs": [
        {
          "output_type": "stream",
          "name": "stdout",
          "text": [
            "Enter the number:-5\n",
            "*\n",
            "**\n",
            "* *\n",
            "*  *\n",
            "*****\n"
          ]
        }
      ]
    },
    {
      "cell_type": "code",
      "source": [
        "# step1 (i=1)------->\n",
        "# i=2 -----> *+(2-2)*' '+*\n",
        "# i=3 -----> *+(3-2)*' '+*\n",
        "# i=4 -----> *+(4-2)*' '+*"
      ],
      "metadata": {
        "id": "gQZUfxZGS1uL"
      },
      "execution_count": 21,
      "outputs": []
    },
    {
      "cell_type": "code",
      "source": [
        "# pyramid pattern"
      ],
      "metadata": {
        "id": "bG-HS4FpTOCO"
      },
      "execution_count": 22,
      "outputs": []
    },
    {
      "cell_type": "code",
      "source": [
        "n=5\n",
        "for i in range(1,n+1):\n",
        "  print(' '*(n-i)+'*' *(2*i-1))"
      ],
      "metadata": {
        "colab": {
          "base_uri": "https://localhost:8080/"
        },
        "id": "o7m2tFbQTPu7",
        "outputId": "536c76b1-a369-4506-9aba-f6e6e3fdab38"
      },
      "execution_count": 24,
      "outputs": [
        {
          "output_type": "stream",
          "name": "stdout",
          "text": [
            "    *\n",
            "   ***\n",
            "  *****\n",
            " *******\n",
            "*********\n"
          ]
        }
      ]
    },
    {
      "cell_type": "code",
      "source": [
        "# step1:- (i=1,n=5)\n",
        "# ' '*(5-1)+'*'*(2*1-1)=2-1=1\n",
        "\n",
        "# step2:- (i=2,n=5)\n",
        "# ' '*(5-2)+'*'*(2*2-1)=4-1=3\n",
        "\n",
        "# step3:- (i=3,n=5)\n",
        "# ' '*(5-3)+'*'*(2*3-1)=6-1=5\n",
        "\n",
        "# step4:- (i=4,n=5)\n",
        "# ' '*(5-4)+'*'*(2*4-1)=8-1=7\n",
        "\n",
        "# step5:- (i=5,n=5)\n",
        "# ' '*(5-5)+'*'*(2*5-1)=10-1=9"
      ],
      "metadata": {
        "id": "IlIL5XbnTmGn"
      },
      "execution_count": 25,
      "outputs": []
    },
    {
      "cell_type": "code",
      "source": [
        "n=5\n",
        "for i in range(n,0,-1):\n",
        "  print(' '*(n-i)+'*'*(2*i-1))"
      ],
      "metadata": {
        "colab": {
          "base_uri": "https://localhost:8080/"
        },
        "id": "LdxmnIdcVfgc",
        "outputId": "f117c035-e299-406c-c082-df96272d57cf"
      },
      "execution_count": 26,
      "outputs": [
        {
          "output_type": "stream",
          "name": "stdout",
          "text": [
            "*********\n",
            " *******\n",
            "  *****\n",
            "   ***\n",
            "    *\n"
          ]
        }
      ]
    },
    {
      "cell_type": "code",
      "source": [],
      "metadata": {
        "id": "kyhablDJV4CQ"
      },
      "execution_count": null,
      "outputs": []
    }
  ]
}
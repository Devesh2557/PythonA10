{
  "nbformat": 4,
  "nbformat_minor": 0,
  "metadata": {
    "colab": {
      "provenance": [],
      "authorship_tag": "ABX9TyN+XCYpFrPfkPphh3tELGRP"
    },
    "kernelspec": {
      "name": "python3",
      "display_name": "Python 3"
    },
    "language_info": {
      "name": "python"
    }
  },
  "cells": [
    {
      "cell_type": "code",
      "execution_count": 1,
      "metadata": {
        "id": "6nuFoHj7FEjO"
      },
      "outputs": [],
      "source": [
        "# Loop in python"
      ]
    },
    {
      "cell_type": "code",
      "source": [
        "# WAP to print number from 1 to 10 using a for loop.\n",
        "for i in range(1,11):\n",
        "  print(i)"
      ],
      "metadata": {
        "colab": {
          "base_uri": "https://localhost:8080/"
        },
        "id": "0fBoY434FuiQ",
        "outputId": "a5e42eac-b8e7-4d15-b30a-34311feb52ac"
      },
      "execution_count": 2,
      "outputs": [
        {
          "output_type": "stream",
          "name": "stdout",
          "text": [
            "1\n",
            "2\n",
            "3\n",
            "4\n",
            "5\n",
            "6\n",
            "7\n",
            "8\n",
            "9\n",
            "10\n"
          ]
        }
      ]
    },
    {
      "cell_type": "code",
      "source": [
        "# WAP to print even numbers form 1 to 20 using for loop\n",
        "for i in range(2,21,2):\n",
        "  print(i)"
      ],
      "metadata": {
        "colab": {
          "base_uri": "https://localhost:8080/"
        },
        "id": "iCi6hJgzF7eC",
        "outputId": "e420fba5-b698-4d55-c0fd-27ccc3950ebe"
      },
      "execution_count": 6,
      "outputs": [
        {
          "output_type": "stream",
          "name": "stdout",
          "text": [
            "2\n",
            "4\n",
            "6\n",
            "8\n",
            "10\n",
            "12\n",
            "14\n",
            "16\n",
            "18\n",
            "20\n"
          ]
        }
      ]
    },
    {
      "cell_type": "code",
      "source": [
        "# WAP to print odd numbers form 1 to 20 using for loop\n",
        "for i in range(1,21,2):\n",
        "  print(i)"
      ],
      "metadata": {
        "colab": {
          "base_uri": "https://localhost:8080/"
        },
        "id": "Woysz0DwGJ-Y",
        "outputId": "de12142f-2950-4bdc-abf1-55c0f750a0ad"
      },
      "execution_count": 7,
      "outputs": [
        {
          "output_type": "stream",
          "name": "stdout",
          "text": [
            "1\n",
            "3\n",
            "5\n",
            "7\n",
            "9\n",
            "11\n",
            "13\n",
            "15\n",
            "17\n",
            "19\n"
          ]
        }
      ]
    },
    {
      "cell_type": "code",
      "source": [
        "# user input method\n",
        "a=int(input(\"Enter the first number\"))\n",
        "b=int(input(\"Enter the last number\"))\n",
        "c=int(input(\"Enter step number\"))\n",
        "for i in range(a,b,c):\n",
        "  print(i)"
      ],
      "metadata": {
        "colab": {
          "base_uri": "https://localhost:8080/"
        },
        "id": "-FlhcdLWGZ4D",
        "outputId": "bf9359c6-96fd-4a64-ed6c-43e7c7512f85"
      },
      "execution_count": 10,
      "outputs": [
        {
          "output_type": "stream",
          "name": "stdout",
          "text": [
            "Enter the first number1\n",
            "Enter the last number3\n",
            "Enter step number1\n",
            "1\n",
            "2\n"
          ]
        }
      ]
    },
    {
      "cell_type": "code",
      "source": [
        "# Q3. WAP to print the sum of the first 10 natural Numbers\n",
        "# using a for loop\n",
        "\n",
        "total=0\n",
        "for i in range(1,11):\n",
        "  total=total+i;\n",
        "print(\"sum:\",total)\n",
        "\n",
        "# pending solution by me"
      ],
      "metadata": {
        "colab": {
          "base_uri": "https://localhost:8080/"
        },
        "id": "MU5zBhaSG6qh",
        "outputId": "44bc737e-93c4-45b3-ba28-4d16644e1e58"
      },
      "execution_count": 14,
      "outputs": [
        {
          "output_type": "stream",
          "name": "stdout",
          "text": [
            "sum: 55\n"
          ]
        }
      ]
    },
    {
      "cell_type": "code",
      "source": [
        "# user define\n",
        "total=0\n",
        "i=int(input(\"Enter first number\"))\n",
        "n=int(input(\"Enter last number\"))\n",
        "for i in range(i,n):\n",
        "  total=total+i\n",
        "print(total)"
      ],
      "metadata": {
        "colab": {
          "base_uri": "https://localhost:8080/"
        },
        "id": "L5PNcVKnIf-B",
        "outputId": "d51b2997-e199-4c52-d5df-0c166339977e"
      },
      "execution_count": 18,
      "outputs": [
        {
          "output_type": "stream",
          "name": "stdout",
          "text": [
            "Enter first number1\n",
            "Enter last number4\n",
            "6\n"
          ]
        }
      ]
    },
    {
      "cell_type": "code",
      "source": [
        "# Q4:- WAP to print the mulriplication table of a given number\n",
        "# using a for loop\n",
        "num=5\n",
        "for i in range(1,11):\n",
        "  print(f\"{num} X {i}={num*i}\")"
      ],
      "metadata": {
        "colab": {
          "base_uri": "https://localhost:8080/"
        },
        "id": "0lantl94I6pX",
        "outputId": "0e036aa9-cfe0-435d-ea08-2ae23b2edd93"
      },
      "execution_count": 21,
      "outputs": [
        {
          "output_type": "stream",
          "name": "stdout",
          "text": [
            "5 X 1=5\n",
            "5 X 2=10\n",
            "5 X 3=15\n",
            "5 X 4=20\n",
            "5 X 5=25\n",
            "5 X 6=30\n",
            "5 X 7=35\n",
            "5 X 8=40\n",
            "5 X 9=45\n",
            "5 X 10=50\n"
          ]
        }
      ]
    },
    {
      "cell_type": "code",
      "source": [
        "# WAP to print the mulriplication table of a given number by user input\n",
        "# using a for loop\n",
        "num=int(input(\"Enter the number\"))\n",
        "for i in range(1,11):\n",
        "  print(f\"{num} X {i}={num*i}\")"
      ],
      "metadata": {
        "colab": {
          "base_uri": "https://localhost:8080/"
        },
        "id": "0bHsWVcjKinR",
        "outputId": "559d7b42-8ac4-4f97-8743-7517172b4135"
      },
      "execution_count": 23,
      "outputs": [
        {
          "output_type": "stream",
          "name": "stdout",
          "text": [
            "Enter the number1\n",
            "1 X 1=1\n",
            "1 X 2=2\n",
            "1 X 3=3\n",
            "1 X 4=4\n",
            "1 X 5=5\n",
            "1 X 6=6\n",
            "1 X 7=7\n",
            "1 X 8=8\n",
            "1 X 9=9\n",
            "1 X 10=10\n"
          ]
        }
      ]
    },
    {
      "cell_type": "code",
      "source": [
        "# Q.5:-WAP to find the factorial of given number using for loop"
      ],
      "metadata": {
        "id": "4SeXx-daKvh2"
      },
      "execution_count": 24,
      "outputs": []
    },
    {
      "cell_type": "code",
      "source": [
        "# Q.6:-WAP to count the program of vowels in a given string using a for loop\n",
        "text=\"Hello World\"\n",
        "vowels=\"aeiouAEIOU\"\n",
        "count=0\n",
        "cons=0\n",
        "for char in text:\n",
        "  if char in vowels:\n",
        "    count +=1\n",
        "  else:\n",
        "    cons=cons+1\n",
        "print(\"Number of vowels:\",count)\n",
        "print(\"Number of cons:\",cons)"
      ],
      "metadata": {
        "colab": {
          "base_uri": "https://localhost:8080/"
        },
        "id": "B0PAmCSYLeDA",
        "outputId": "f69d6ede-aea1-4c14-9a2e-94eb16ee687e"
      },
      "execution_count": 25,
      "outputs": [
        {
          "output_type": "stream",
          "name": "stdout",
          "text": [
            "Number of vowels: 3\n",
            "Number of cons: 8\n"
          ]
        }
      ]
    },
    {
      "cell_type": "code",
      "source": [],
      "metadata": {
        "id": "Tmgcka-qPnRv"
      },
      "execution_count": null,
      "outputs": []
    }
  ]
}
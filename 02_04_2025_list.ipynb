{
  "nbformat": 4,
  "nbformat_minor": 0,
  "metadata": {
    "colab": {
      "provenance": [],
      "authorship_tag": "ABX9TyPSAR5s54rHf6CjjDDe7Py7"
    },
    "kernelspec": {
      "name": "python3",
      "display_name": "Python 3"
    },
    "language_info": {
      "name": "python"
    }
  },
  "cells": [
    {
      "cell_type": "code",
      "execution_count": 2,
      "metadata": {
        "id": "YyWSxXOn9qBX"
      },
      "outputs": [],
      "source": [
        "# List in Python\n",
        "# (1)Indentation:[]\n",
        "# (2) List is a collection of itmes in which we can store different elements.\n",
        "# (3) Indexing start from 0 and length start from 1\n",
        "# (4) Mutable data type ------> We can change or update the values at a run time\n",
        "# (5) Elements are separated by commas"
      ]
    },
    {
      "cell_type": "code",
      "source": [
        "a=['sam','raj',45,34.89]"
      ],
      "metadata": {
        "id": "TJarvzoX970X"
      },
      "execution_count": 3,
      "outputs": []
    },
    {
      "cell_type": "code",
      "source": [
        "type(a)"
      ],
      "metadata": {
        "colab": {
          "base_uri": "https://localhost:8080/"
        },
        "id": "GT00yvJx-2ap",
        "outputId": "8ea1a9d7-82ff-456d-bf51-11b33d9f466e"
      },
      "execution_count": 5,
      "outputs": [
        {
          "output_type": "execute_result",
          "data": {
            "text/plain": [
              "list"
            ]
          },
          "metadata": {},
          "execution_count": 5
        }
      ]
    },
    {
      "cell_type": "code",
      "source": [
        "# indexing and slicing\n",
        "print(a[0])\n",
        "print(a[1])\n",
        "print(a[2])\n",
        "print(a[3])\n",
        "print(a[2:5])\n",
        "print(a[1:4])\n",
        "print(a[3:])\n",
        "print(a[:3])\n",
        "print(a[:])"
      ],
      "metadata": {
        "colab": {
          "base_uri": "https://localhost:8080/"
        },
        "id": "_ZkM0Aux-37n",
        "outputId": "9459e1c0-699b-41e8-b77f-b44d40b5ee37"
      },
      "execution_count": 15,
      "outputs": [
        {
          "output_type": "stream",
          "name": "stdout",
          "text": [
            "sam\n",
            "raj\n",
            "45\n",
            "34.89\n",
            "[45, 34.89]\n",
            "['raj', 45, 34.89]\n",
            "[34.89]\n",
            "['sam', 'raj', 45]\n",
            "['sam', 'raj', 45, 34.89]\n"
          ]
        }
      ]
    },
    {
      "cell_type": "code",
      "source": [
        "# Mutability\n",
        "a=['sam','raj',45,34.89]\n",
        "print(a)\n",
        "a[1]='Garima'\n",
        "print(a)\n",
        "a[3]=45.912\n",
        "print(a)"
      ],
      "metadata": {
        "colab": {
          "base_uri": "https://localhost:8080/"
        },
        "id": "o5hqm0AV_r4M",
        "outputId": "47bd7fae-7880-4600-f477-bddc4bc91040"
      },
      "execution_count": 18,
      "outputs": [
        {
          "output_type": "stream",
          "name": "stdout",
          "text": [
            "['sam', 'raj', 45, 34.89]\n",
            "['sam', 'Garima', 45, 34.89]\n",
            "['sam', 'Garima', 45, 45.912]\n"
          ]
        }
      ]
    },
    {
      "cell_type": "code",
      "source": [
        "a=['sam','raj',45,34.89,12,67]\n",
        "if 'Rahul' in a:\n",
        "  print(\"yes\")\n",
        "else:\n",
        "  print(\"no\")"
      ],
      "metadata": {
        "colab": {
          "base_uri": "https://localhost:8080/"
        },
        "id": "8sgu7K0xBQiX",
        "outputId": "5b005f3d-ffa0-42ec-b331-31312d1f99b8"
      },
      "execution_count": 20,
      "outputs": [
        {
          "output_type": "stream",
          "name": "stdout",
          "text": [
            "no\n"
          ]
        }
      ]
    },
    {
      "cell_type": "code",
      "source": [
        "a=['sam','raj',45,34.89,12,67]\n",
        "for i in a:\n",
        "  print(i,end=\" \")"
      ],
      "metadata": {
        "colab": {
          "base_uri": "https://localhost:8080/"
        },
        "id": "f9879uGxBp6q",
        "outputId": "03d6e090-0988-49bb-902b-7d045ab4aaab"
      },
      "execution_count": 21,
      "outputs": [
        {
          "output_type": "stream",
          "name": "stdout",
          "text": [
            "sam raj 45 34.89 12 67 "
          ]
        }
      ]
    },
    {
      "cell_type": "code",
      "source": [
        "len(a)"
      ],
      "metadata": {
        "colab": {
          "base_uri": "https://localhost:8080/"
        },
        "id": "Ri3FKAxaGAMQ",
        "outputId": "f67f35d2-2ea7-4280-c176-bc8c510b01db"
      },
      "execution_count": 22,
      "outputs": [
        {
          "output_type": "execute_result",
          "data": {
            "text/plain": [
              "6"
            ]
          },
          "metadata": {},
          "execution_count": 22
        }
      ]
    },
    {
      "cell_type": "code",
      "source": [
        "for i in range(len(a)):\n",
        "  print(a[i])"
      ],
      "metadata": {
        "colab": {
          "base_uri": "https://localhost:8080/"
        },
        "id": "yXNIBnrQGDJK",
        "outputId": "93f31849-bcd6-4445-98c5-9d6337fb0d03"
      },
      "execution_count": 23,
      "outputs": [
        {
          "output_type": "stream",
          "name": "stdout",
          "text": [
            "sam\n",
            "raj\n",
            "45\n",
            "34.89\n",
            "12\n",
            "67\n"
          ]
        }
      ]
    },
    {
      "cell_type": "code",
      "source": [
        "# List Properties"
      ],
      "metadata": {
        "id": "vbnAY_AaGSPX"
      },
      "execution_count": 24,
      "outputs": []
    },
    {
      "cell_type": "code",
      "source": [
        "# (1). Concatenation\n",
        "a=[1,2,3]\n",
        "b=[4,5,6]\n",
        "c=a+b\n",
        "print(c)"
      ],
      "metadata": {
        "colab": {
          "base_uri": "https://localhost:8080/"
        },
        "id": "L6QIzTVzGVil",
        "outputId": "09c04e2e-aa3d-49d8-c6b5-0fc0a5ee5543"
      },
      "execution_count": 25,
      "outputs": [
        {
          "output_type": "stream",
          "name": "stdout",
          "text": [
            "[1, 2, 3, 4, 5, 6]\n"
          ]
        }
      ]
    },
    {
      "cell_type": "code",
      "source": [
        "# (2). Replication\n",
        "a=[1,2,3]\n",
        "print(a*3)"
      ],
      "metadata": {
        "colab": {
          "base_uri": "https://localhost:8080/"
        },
        "id": "MZO4xYYNGfzJ",
        "outputId": "af5748b0-73b8-4d6e-874b-90f06aba6ccd"
      },
      "execution_count": 27,
      "outputs": [
        {
          "output_type": "stream",
          "name": "stdout",
          "text": [
            "[1, 2, 3, 1, 2, 3, 1, 2, 3]\n"
          ]
        }
      ]
    },
    {
      "cell_type": "code",
      "source": [
        "# Functions in python"
      ],
      "metadata": {
        "id": "nwaC3xP4G0Kw"
      },
      "execution_count": 28,
      "outputs": []
    },
    {
      "cell_type": "code",
      "source": [
        "# (1). Len()------> It will return length of a list.\n",
        "a=[1,67,90]\n",
        "len(a)"
      ],
      "metadata": {
        "colab": {
          "base_uri": "https://localhost:8080/"
        },
        "id": "ePZrs4-eG3AY",
        "outputId": "1ac4d01b-258a-4203-daca-642cec08db3a"
      },
      "execution_count": 29,
      "outputs": [
        {
          "output_type": "execute_result",
          "data": {
            "text/plain": [
              "3"
            ]
          },
          "metadata": {},
          "execution_count": 29
        }
      ]
    },
    {
      "cell_type": "code",
      "source": [
        "# (2). Index()-----> It will return indexing of an element that present in a list.\n",
        "a=['sam',12,56]\n",
        "a.index(56)"
      ],
      "metadata": {
        "colab": {
          "base_uri": "https://localhost:8080/"
        },
        "id": "UnROk0veHBuF",
        "outputId": "2b169510-14fc-4ece-e5ef-dc1574f0ab1c"
      },
      "execution_count": 30,
      "outputs": [
        {
          "output_type": "execute_result",
          "data": {
            "text/plain": [
              "2"
            ]
          },
          "metadata": {},
          "execution_count": 30
        }
      ]
    },
    {
      "cell_type": "code",
      "source": [
        "# (3). Append()------->  This method will add ellement in the last indexing of a list\n",
        "a=['sam','purvi',56]\n",
        "print(a)\n",
        "a.append('raj')\n",
        "print(a)"
      ],
      "metadata": {
        "colab": {
          "base_uri": "https://localhost:8080/"
        },
        "id": "pxCLGlR3HT1v",
        "outputId": "b7cf8017-a83b-4b07-b1cd-05074637e268"
      },
      "execution_count": 31,
      "outputs": [
        {
          "output_type": "stream",
          "name": "stdout",
          "text": [
            "['sam', 'purvi', 56]\n",
            "['sam', 'purvi', 56, 'raj']\n"
          ]
        }
      ]
    },
    {
      "cell_type": "code",
      "source": [
        "# (4). insert (index,object)-----> This method will add element in the given indexing\n",
        "a=['sam''raj','rahul']\n",
        "print(a)\n",
        "a.insert(1,'purvi')\n",
        "print(a)"
      ],
      "metadata": {
        "colab": {
          "base_uri": "https://localhost:8080/"
        },
        "id": "7TA0T434Hnpd",
        "outputId": "71b02534-efd6-40c4-96dc-f83361962b38"
      },
      "execution_count": 32,
      "outputs": [
        {
          "output_type": "stream",
          "name": "stdout",
          "text": [
            "['samraj', 'rahul']\n",
            "['samraj', 'purvi', 'rahul']\n"
          ]
        }
      ]
    },
    {
      "cell_type": "code",
      "source": [
        "# (5).  min()-------> It will return minimum value a list.\n",
        "a=[1,2,3]\n",
        "print(min(a))"
      ],
      "metadata": {
        "colab": {
          "base_uri": "https://localhost:8080/"
        },
        "id": "y1rSRFO_IBsA",
        "outputId": "43428eb8-5178-412b-bf9b-03b5f8894d8f"
      },
      "execution_count": 34,
      "outputs": [
        {
          "output_type": "stream",
          "name": "stdout",
          "text": [
            "1\n"
          ]
        }
      ]
    },
    {
      "cell_type": "code",
      "source": [
        "# (6).  max()-------->It will return maximum value of a list.\n",
        "a=[1,2,3]\n",
        "print(max(a))"
      ],
      "metadata": {
        "colab": {
          "base_uri": "https://localhost:8080/"
        },
        "id": "vSrbrPsBIOMS",
        "outputId": "ba17a11f-518f-4a32-f1e3-7e706847bd3c"
      },
      "execution_count": 35,
      "outputs": [
        {
          "output_type": "stream",
          "name": "stdout",
          "text": [
            "3\n"
          ]
        }
      ]
    },
    {
      "cell_type": "code",
      "source": [
        "# (7).  Sort()---------> It will return a list in which elements are arranged un ascending order.\n",
        "a=[1,7,3,2,5,4]\n",
        "print(a)\n",
        "a.sort()\n",
        "print(a)"
      ],
      "metadata": {
        "colab": {
          "base_uri": "https://localhost:8080/"
        },
        "id": "C6syN0yLIbhc",
        "outputId": "1f2e2a8c-fd1f-4489-9f94-cb673d4ebf2e"
      },
      "execution_count": 36,
      "outputs": [
        {
          "output_type": "stream",
          "name": "stdout",
          "text": [
            "[1, 7, 3, 2, 5, 4]\n",
            "[1, 2, 3, 4, 5, 7]\n"
          ]
        }
      ]
    },
    {
      "cell_type": "code",
      "source": [
        "# (8).  Reverse()------> It will return a list in which elements position will be reverse.\n",
        "a=[1,2,3,4]\n",
        "a.reverse()\n",
        "print(a)"
      ],
      "metadata": {
        "colab": {
          "base_uri": "https://localhost:8080/"
        },
        "id": "oSdeECXiItr_",
        "outputId": "42ec6d89-617a-4593-a0c9-767d3ab52de4"
      },
      "execution_count": 37,
      "outputs": [
        {
          "output_type": "stream",
          "name": "stdout",
          "text": [
            "[4, 3, 2, 1]\n"
          ]
        }
      ]
    },
    {
      "cell_type": "code",
      "source": [
        "# (9).  Pop()----> It will delete element from last indexing.\n",
        "a=[1,2,3,4]\n",
        "a.pop()\n",
        "print(a)\n",
        "a.pop()\n",
        "print(a)"
      ],
      "metadata": {
        "colab": {
          "base_uri": "https://localhost:8080/"
        },
        "id": "nHsHrFWrJWLX",
        "outputId": "8ea79694-a07f-4688-8607-dd9bebf26c9e"
      },
      "execution_count": 41,
      "outputs": [
        {
          "output_type": "stream",
          "name": "stdout",
          "text": [
            "[1, 2, 3]\n",
            "[1, 2]\n"
          ]
        }
      ]
    },
    {
      "cell_type": "code",
      "source": [
        "# (10).  Remove()--------> It will delete element in a list.\n",
        "a=['sam','gorav','aniket',44,67]\n",
        "print(a)\n",
        "a.remove('sam')\n",
        "print(a)\n",
        "a.remove('aniket')\n",
        "print(a)"
      ],
      "metadata": {
        "colab": {
          "base_uri": "https://localhost:8080/"
        },
        "id": "zNPXJk-PJhY0",
        "outputId": "b2129865-8816-4a29-a243-e2d0b10692da"
      },
      "execution_count": 42,
      "outputs": [
        {
          "output_type": "stream",
          "name": "stdout",
          "text": [
            "['sam', 'gorav', 'aniket', 44, 67]\n",
            "['gorav', 'aniket', 44, 67]\n",
            "['gorav', 44, 67]\n"
          ]
        }
      ]
    },
    {
      "cell_type": "code",
      "source": [],
      "metadata": {
        "id": "vnRzUCC_J-lC"
      },
      "execution_count": null,
      "outputs": []
    }
  ]
}
{
 "cells": [
  {
   "cell_type": "code",
   "execution_count": 2,
   "id": "7abaaf9f-05ac-4b97-aa9c-6eb383137f9e",
   "metadata": {},
   "outputs": [],
   "source": [
    "#cca --> complete case analysis\n",
    "#df ---> missing data ---> filter missing data\n",
    "#new_df = filtered_columns_in_which_we_have_missing_data\n",
    "\n",
    "#new_df --> missing_data_drop\n",
    "\n",
    "#Architecture ----> Histogram ---->\n",
    "#past column in which we have missing data |\n",
    "#updated column in which we have no missing data\n",
    "\n",
    "# if past data architecture is overlap to new data architecture ---> it means we can drop missing\n",
    "# data.\n",
    "# if past data architecture is not overlap to new data architecture ---> it means we can not drop\n",
    "#missing data."
   ]
  },
  {
   "cell_type": "code",
   "execution_count": 4,
   "id": "2a9502d9-27d2-4a95-ad59-3ac4908e573a",
   "metadata": {},
   "outputs": [],
   "source": [
    "import numpy as np \n",
    "import pandas as pd"
   ]
  },
  {
   "cell_type": "code",
   "execution_count": null,
   "id": "f79d0e88-b38a-44c0-97fa-cdf006300b46",
   "metadata": {},
   "outputs": [],
   "source": []
  }
 ],
 "metadata": {
  "kernelspec": {
   "display_name": "Python [conda env:base] *",
   "language": "python",
   "name": "conda-base-py"
  },
  "language_info": {
   "codemirror_mode": {
    "name": "ipython",
    "version": 3
   },
   "file_extension": ".py",
   "mimetype": "text/x-python",
   "name": "python",
   "nbconvert_exporter": "python",
   "pygments_lexer": "ipython3",
   "version": "3.12.7"
  }
 },
 "nbformat": 4,
 "nbformat_minor": 5
}

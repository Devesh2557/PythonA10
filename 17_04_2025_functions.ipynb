{
  "nbformat": 4,
  "nbformat_minor": 0,
  "metadata": {
    "colab": {
      "provenance": [],
      "authorship_tag": "ABX9TyNyBEgRPVlMnUcPJPOnfjc2"
    },
    "kernelspec": {
      "name": "python3",
      "display_name": "Python 3"
    },
    "language_info": {
      "name": "python"
    }
  },
  "cells": [
    {
      "cell_type": "code",
      "execution_count": 5,
      "metadata": {
        "colab": {
          "base_uri": "https://localhost:8080/"
        },
        "id": "AnQ3sa0C5M-A",
        "outputId": "12bfbebf-0e9e-4eb2-a15b-a86eda1e951a"
      },
      "outputs": [
        {
          "output_type": "stream",
          "name": "stdout",
          "text": [
            "Total value= 7\n",
            "Total product is= 12\n",
            "Total= 3\n"
          ]
        }
      ],
      "source": [
        "# Lambda function:- A lambda function can take any number of arguments but\n",
        "# can only have ine expression.\n",
        "# syntax: lambda arguments : expression\n",
        "# Ex.1\n",
        "x= lambda a:a+5\n",
        "print(\"Total value=\",x(2))\n",
        "\n",
        "# Ex.2\n",
        "x=lambda a,b :a*b\n",
        "print(\"Total product is=\",x(3,4))\n",
        "\n",
        "# Ex.3\n",
        "x=lambda a,b,c :a+b-c\n",
        "print(\"Total=\",x(4,5,6))"
      ]
    },
    {
      "cell_type": "code",
      "source": [
        "# Filter function:- The filter function returns an integer where the items are\n",
        "# filtered through a function to test, if the item is accepted return true or false.\n",
        "ages=[5,12,17,18,34,67,50]\n",
        "def myFunc(x):\n",
        "  if(x<=18):    ##if(x<=18):\n",
        "    return True\n",
        "  else:\n",
        "    return False\n",
        "kid=list(filter(myFunc,ages))\n",
        "print(kid)"
      ],
      "metadata": {
        "colab": {
          "base_uri": "https://localhost:8080/"
        },
        "id": "mBrXnUQP7ZwL",
        "outputId": "560c5964-f01e-4aa4-d66a-e25c2cb29902"
      },
      "execution_count": 8,
      "outputs": [
        {
          "output_type": "stream",
          "name": "stdout",
          "text": [
            "[5, 12, 17, 18]\n"
          ]
        }
      ]
    },
    {
      "cell_type": "code",
      "source": [
        "# Map function()=> The map() executes a specified function for each item in a iterable.\n",
        "# The item is sent to the function as parameter.\n",
        "a=[\"3\",\"45\",\"89\"]\n",
        "# method-1\n",
        "# print(a)\n",
        "for i in range(len(a)):\n",
        "  a[i]=int(a[i])\n",
        "print(a)\n",
        "\n",
        "# method-2\n",
        "b=list(map(int ,a))\n",
        "print(b)\n",
        "# b[2]=b[2]+1\n",
        "# print(b[2])"
      ],
      "metadata": {
        "colab": {
          "base_uri": "https://localhost:8080/"
        },
        "id": "VsII66S49byE",
        "outputId": "6ed19fba-d3f3-4cf1-b847-b6b320337f1f"
      },
      "execution_count": 10,
      "outputs": [
        {
          "output_type": "stream",
          "name": "stdout",
          "text": [
            "[3, 45, 89]\n",
            "[3, 45, 89]\n"
          ]
        }
      ]
    },
    {
      "cell_type": "code",
      "source": [
        "# Problem Solving(Lambda)\n",
        "#(1.) Write a Python program to create a lambda function that adds 15 to a\n",
        "# given number passed in as an argument, also create a lambda function\n",
        "# that multiplies argument x with argument y and prints the result.\n",
        "\n",
        "a=lambda x:x+15\n",
        "print(a(2))\n",
        "\n",
        "b=lambda x,y:x*y\n",
        "print(b(5,7))"
      ],
      "metadata": {
        "colab": {
          "base_uri": "https://localhost:8080/"
        },
        "id": "3QVPSXvE_WEp",
        "outputId": "90772b80-aa90-4f9b-b009-6f5a401ec093"
      },
      "execution_count": 12,
      "outputs": [
        {
          "output_type": "stream",
          "name": "stdout",
          "text": [
            "17\n",
            "35\n"
          ]
        }
      ]
    },
    {
      "cell_type": "code",
      "source": [
        "#(2) Write a Python program to create a function that takes one argument,\n",
        "# and that argument will be multiplied with an unknown number.\n",
        "\n",
        "def myfunc(number):\n",
        "    return lambda x: x * number\n",
        "\n",
        "a=int(input(\"Enter unknown number:\"))\n",
        "unknown_multiplier = myfunc(a)\n",
        "result = unknown_multiplier(3)\n",
        "print(\"Result:\", result)\n"
      ],
      "metadata": {
        "colab": {
          "base_uri": "https://localhost:8080/"
        },
        "id": "l9ZPqXkGCWIb",
        "outputId": "9b8dda7b-83ff-45ed-e665-225aa6993569"
      },
      "execution_count": 15,
      "outputs": [
        {
          "output_type": "stream",
          "name": "stdout",
          "text": [
            "Enter unknown number:5\n",
            "Result: 15\n"
          ]
        }
      ]
    },
    {
      "cell_type": "code",
      "source": [
        "#(3) Write a Python program to sort a list of tuples using Lambda.\n",
        "\n",
        "subject_marks = [('English', 88), ('Science', 90), ('Maths', 97), ('Social sciences', 82)]\n",
        "print(subject_marks)\n",
        "\n",
        "subject_marks.sort(key=lambda x:x[1])\n",
        "print(subject_marks)"
      ],
      "metadata": {
        "colab": {
          "base_uri": "https://localhost:8080/"
        },
        "id": "QmsQDQEYC2o8",
        "outputId": "3e07bd07-4543-4e3c-d0da-e1c15e7e0baf"
      },
      "execution_count": 25,
      "outputs": [
        {
          "output_type": "stream",
          "name": "stdout",
          "text": [
            "[('English', 88), ('Science', 90), ('Maths', 97), ('Social sciences', 82)]\n",
            "[('Social sciences', 82), ('English', 88), ('Science', 90), ('Maths', 97)]\n"
          ]
        }
      ]
    },
    {
      "cell_type": "code",
      "source": [
        "#(4) Write a Python program to sort a list of dictionaries using Lambda.\n",
        "models = [\n",
        "    {'make': 'Nokia', 'model': 216, 'color': 'Black'},\n",
        "    {'make': 'Mi Max', 'model': '2', 'color': 'Gold'},\n",
        "    {'make': 'Samsung', 'model': 7, 'color': 'Blue'}\n",
        "]\n",
        "print(models)\n",
        "models.sort(key=lambda x:x['color'])\n",
        "print(models)"
      ],
      "metadata": {
        "colab": {
          "base_uri": "https://localhost:8080/"
        },
        "id": "MXG3UBeAEbPz",
        "outputId": "86a3be19-a901-4f41-9c87-0b684a1fb9b9"
      },
      "execution_count": 27,
      "outputs": [
        {
          "output_type": "stream",
          "name": "stdout",
          "text": [
            "[{'make': 'Nokia', 'model': 216, 'color': 'Black'}, {'make': 'Mi Max', 'model': '2', 'color': 'Gold'}, {'make': 'Samsung', 'model': 7, 'color': 'Blue'}]\n",
            "[{'make': 'Nokia', 'model': 216, 'color': 'Black'}, {'make': 'Samsung', 'model': 7, 'color': 'Blue'}, {'make': 'Mi Max', 'model': '2', 'color': 'Gold'}]\n"
          ]
        }
      ]
    },
    {
      "cell_type": "code",
      "source": [
        "(5)"
      ],
      "metadata": {
        "id": "Y2D0UIwyFkc6"
      },
      "execution_count": null,
      "outputs": []
    }
  ]
}
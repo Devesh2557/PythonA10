{
  "nbformat": 4,
  "nbformat_minor": 0,
  "metadata": {
    "colab": {
      "provenance": [],
      "authorship_tag": "ABX9TyP0V1ghJ/BU4vd0DLdk/6+Z"
    },
    "kernelspec": {
      "name": "python3",
      "display_name": "Python 3"
    },
    "language_info": {
      "name": "python"
    }
  },
  "cells": [
    {
      "cell_type": "code",
      "execution_count": 2,
      "metadata": {
        "id": "T7eHXd60xH49"
      },
      "outputs": [],
      "source": [
        "# Function in python\n",
        "# specific block of code---------> Name------>Call the name------->run its internal logics"
      ]
    },
    {
      "cell_type": "code",
      "source": [
        "# Types of function in PythonOpsChecker\n",
        "# (1). Pre defined functions----->print(),input(),sum()........\n",
        "# (2). manually Created Functions-------->\n",
        "# Step-1  def\n",
        "# Step-2  Name of function\n",
        "# Step-3  Function creation logic\n",
        "# Step-4  Call the function"
      ],
      "metadata": {
        "id": "lN8j6j9hyBod"
      },
      "execution_count": 3,
      "outputs": []
    },
    {
      "cell_type": "code",
      "source": [
        "# Q.1 Create a function who add 2 numbers?"
      ],
      "metadata": {
        "id": "bTd3gmgEyoPw"
      },
      "execution_count": 4,
      "outputs": []
    },
    {
      "cell_type": "code",
      "source": [
        "def my_add():\n",
        "  a=5\n",
        "  b=6\n",
        "  c=a+b\n",
        "  print(\"Add = \",c)\n",
        "my_add()"
      ],
      "metadata": {
        "colab": {
          "base_uri": "https://localhost:8080/"
        },
        "id": "KIvBONcHyteq",
        "outputId": "0e4f9a94-b2ad-4b6e-ac86-7e1692687242"
      },
      "execution_count": 6,
      "outputs": [
        {
          "output_type": "stream",
          "name": "stdout",
          "text": [
            "Add =  11\n"
          ]
        }
      ]
    },
    {
      "cell_type": "code",
      "source": [
        "# Arguments And Parameters\n",
        "# Parameters------> These are the value which we pass when we create a function\n",
        "# Arguments-------> These are the values which we pass when we call a function"
      ],
      "metadata": {
        "id": "TkzO498Iy5-4"
      },
      "execution_count": 7,
      "outputs": []
    },
    {
      "cell_type": "code",
      "source": [
        "def my_add(a,b):\n",
        "  c=a+b\n",
        "  print(\"Total = \",c)\n",
        "my_add(5,6)"
      ],
      "metadata": {
        "colab": {
          "base_uri": "https://localhost:8080/"
        },
        "id": "ogF7OupYzPS9",
        "outputId": "90ee4a56-8166-48eb-8a4b-a082062f78b7"
      },
      "execution_count": 9,
      "outputs": [
        {
          "output_type": "stream",
          "name": "stdout",
          "text": [
            "Total =  11\n"
          ]
        }
      ]
    },
    {
      "cell_type": "code",
      "source": [
        "def my_add(a,b):\n",
        "  c=a+b\n",
        "  print(\"Total = \",c)\n",
        "p=int(input(\"Enter first number:\"))\n",
        "q=int(input(\"Enter second number:\"))\n",
        "my_add(p,q) ## Here (p,q)----> Arguments and (a,b)---> Parameters"
      ],
      "metadata": {
        "colab": {
          "base_uri": "https://localhost:8080/"
        },
        "id": "WEsLYJ2zzZPQ",
        "outputId": "83e60197-a0eb-412c-bcd6-d652380d006e"
      },
      "execution_count": 11,
      "outputs": [
        {
          "output_type": "stream",
          "name": "stdout",
          "text": [
            "Enter first number:5\n",
            "Enter second number:6\n",
            "Total =  11\n"
          ]
        }
      ]
    },
    {
      "cell_type": "code",
      "source": [
        "# Q.2 Create a function who tell given number is odd or even."
      ],
      "metadata": {
        "id": "HfuTGAPBzteY"
      },
      "execution_count": 12,
      "outputs": []
    },
    {
      "cell_type": "code",
      "source": [
        "def oddeve():\n",
        "  a=int(input(\"Enter number:\"))\n",
        "  if(a%2==0):\n",
        "    print(\"Number is even.......\")\n",
        "  else:\n",
        "    print(\"Number is odd......\")\n",
        "oddeve()"
      ],
      "metadata": {
        "colab": {
          "base_uri": "https://localhost:8080/"
        },
        "id": "ff0Dd-Loz6-i",
        "outputId": "98b11ee3-11d6-4e5f-9f62-feb1ff9b358d"
      },
      "execution_count": 15,
      "outputs": [
        {
          "output_type": "stream",
          "name": "stdout",
          "text": [
            "Enter number:22\n",
            "Number is even.......\n"
          ]
        }
      ]
    },
    {
      "cell_type": "code",
      "source": [
        "# With Arguments and Parameters\n",
        "def oddeve(a):\n",
        "  if(a%2==0):\n",
        "    print(\"Even number..\")\n",
        "  else:\n",
        "    print(\"Odd number..\")\n",
        "b=int(input(\"Enter number\"))\n",
        "oddeve(b)"
      ],
      "metadata": {
        "colab": {
          "base_uri": "https://localhost:8080/"
        },
        "id": "vfS2eMrR0O4f",
        "outputId": "79b3a261-fd0c-4c83-aa5c-079ba5a0b834"
      },
      "execution_count": 17,
      "outputs": [
        {
          "output_type": "stream",
          "name": "stdout",
          "text": [
            "Enter number23\n",
            "Odd number..\n"
          ]
        }
      ]
    },
    {
      "cell_type": "markdown",
      "source": [
        "# Types of Function"
      ],
      "metadata": {
        "id": "7g5zT4d51h2V"
      }
    },
    {
      "cell_type": "markdown",
      "source": [
        "# 1. *Args(Non-Keyword Arguments)\n",
        "*args allows us to pass multuple positional arguments to a fuction. It collects them into a tuple."
      ],
      "metadata": {
        "id": "Qc0elKnY1oCb"
      }
    },
    {
      "cell_type": "code",
      "source": [
        "def add_numbers(*args):\n",
        "  total=sum(args)\n",
        "  print(f\"Sum: {total}\")\n",
        "add_numbers(5,10,15)"
      ],
      "metadata": {
        "colab": {
          "base_uri": "https://localhost:8080/"
        },
        "id": "3OGNrJOe19vU",
        "outputId": "ae625012-b9a8-464e-da82-7c968b8d1e09"
      },
      "execution_count": 18,
      "outputs": [
        {
          "output_type": "stream",
          "name": "stdout",
          "text": [
            "Sum: 30\n"
          ]
        }
      ]
    },
    {
      "cell_type": "markdown",
      "source": [
        "# 2.**Kwargs(keyword Arguments)\n",
        "**kwargs allows us to pass multiple keyword arguments(name-value pairs). It collects them into a dictionary."
      ],
      "metadata": {
        "id": "amiTnIy92LgF"
      }
    },
    {
      "cell_type": "code",
      "source": [
        "def print_details(**kwargs):\n",
        "  for key, value in kwargs.items():\n",
        "    print(f\"{key}:{value}\")\n",
        "print_details(name=\"Devesh\",age=23,city=\"Jaipur\")"
      ],
      "metadata": {
        "colab": {
          "base_uri": "https://localhost:8080/"
        },
        "id": "8j2V0T5g2eoF",
        "outputId": "f6c3cd42-c233-4d62-dd76-5e15fce17e6c"
      },
      "execution_count": 19,
      "outputs": [
        {
          "output_type": "stream",
          "name": "stdout",
          "text": [
            "name:Devesh\n",
            "age:23\n",
            "city:Jaipur\n"
          ]
        }
      ]
    },
    {
      "cell_type": "markdown",
      "source": [
        "# Using args and *kwargs Together\n",
        "We can use both in the same function, but args must come before *kwargs\n"
      ],
      "metadata": {
        "id": "Akebwsv22130"
      }
    },
    {
      "cell_type": "code",
      "source": [
        "def display_info(*args,**kwargs):\n",
        "  print(\"Positional arguments:\",args)\n",
        "  print(\"Keyword arguments:\",kwargs)\n",
        "display_info(1,2,3,name=\"Devesh\",age=23)"
      ],
      "metadata": {
        "colab": {
          "base_uri": "https://localhost:8080/"
        },
        "id": "j5CrhYjd3R-S",
        "outputId": "6e9d1570-e935-42dc-fb79-7d89fefcdffd"
      },
      "execution_count": 20,
      "outputs": [
        {
          "output_type": "stream",
          "name": "stdout",
          "text": [
            "Positional arguments: (1, 2, 3)\n",
            "Keyword arguments: {'name': 'Devesh', 'age': 23}\n"
          ]
        }
      ]
    },
    {
      "cell_type": "markdown",
      "source": [
        "# Required Arguments(Mandatory inputs)\n",
        "There are arguments that must be passed to a function;otherwise, Python throws an error. There is no default value for these arguments."
      ],
      "metadata": {
        "id": "c6wptKMd3tAe"
      }
    },
    {
      "cell_type": "code",
      "source": [
        "def greet(name):\n",
        "  print(f\"Hello,{name}!\")\n",
        "greet(\"Devesh\")"
      ],
      "metadata": {
        "colab": {
          "base_uri": "https://localhost:8080/"
        },
        "id": "HhUtnXRX4Vvv",
        "outputId": "8bfeced1-e3cf-43f0-ab1f-0c2e3e743f7d"
      },
      "execution_count": 22,
      "outputs": [
        {
          "output_type": "stream",
          "name": "stdout",
          "text": [
            "Hello,Devesh!\n"
          ]
        }
      ]
    },
    {
      "cell_type": "markdown",
      "source": [
        "# Default Arguments(Optional Arguments)\n",
        "These arguments have a default value assigned. If no value"
      ],
      "metadata": {
        "id": "XANcuFLZ4j_7"
      }
    },
    {
      "cell_type": "markdown",
      "source": [
        "# 3. return keyword(Output of a Function)\n",
        "the return statement sends a value back form a function.If return is not used, the function return none."
      ],
      "metadata": {
        "id": "uRIrFUV740XR"
      }
    },
    {
      "cell_type": "code",
      "source": [
        "def add(a,b):\n",
        "  return a+b\n",
        "result=add(5,3)\n",
        "print(result)"
      ],
      "metadata": {
        "colab": {
          "base_uri": "https://localhost:8080/"
        },
        "id": "37N2CjNw5HCa",
        "outputId": "91f787bc-af10-4398-8976-a2db6f3028ca"
      },
      "execution_count": 23,
      "outputs": [
        {
          "output_type": "stream",
          "name": "stdout",
          "text": [
            "8\n"
          ]
        }
      ]
    },
    {
      "cell_type": "markdown",
      "source": [
        "# Questions\n",
        "\n",
        "# 1. Find the maximum number using *args\n",
        "Question: Write a function that takes multiple numbers as arguments using *args and returns the maximum number."
      ],
      "metadata": {
        "id": "-On-Ayy05WJC"
      }
    },
    {
      "cell_type": "code",
      "source": [
        "def find_max(*args):\n",
        "  return max(args)\n",
        "print(find_max(10,5,25,8,100))\n",
        "print(find_max(-1,-10,-5,0))"
      ],
      "metadata": {
        "colab": {
          "base_uri": "https://localhost:8080/"
        },
        "id": "Yuvnu9qi5r76",
        "outputId": "ab53f2d4-7041-4c3c-bddf-8a15b956b424"
      },
      "execution_count": 24,
      "outputs": [
        {
          "output_type": "stream",
          "name": "stdout",
          "text": [
            "100\n",
            "0\n"
          ]
        }
      ]
    },
    {
      "cell_type": "markdown",
      "source": [
        "# Calculate the product of numbers using *args\n",
        "Question: Write a function that takes multiple numbers using *args and returns their product."
      ],
      "metadata": {
        "id": "h8xALrs76Juk"
      }
    },
    {
      "cell_type": "code",
      "source": [
        "def product(*args):\n",
        "  result=1\n",
        "  for num in args:\n",
        "    result *= num\n",
        "  return result\n",
        "print(product(2,3,4))\n",
        "print(product(5,5))"
      ],
      "metadata": {
        "colab": {
          "base_uri": "https://localhost:8080/"
        },
        "id": "w9vMi4P46cK7",
        "outputId": "5ea138ba-be8d-49a6-de59-7442a6ac83bd"
      },
      "execution_count": 25,
      "outputs": [
        {
          "output_type": "stream",
          "name": "stdout",
          "text": [
            "24\n",
            "25\n"
          ]
        }
      ]
    }
  ]
}
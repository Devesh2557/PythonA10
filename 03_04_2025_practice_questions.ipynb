{
  "nbformat": 4,
  "nbformat_minor": 0,
  "metadata": {
    "colab": {
      "provenance": [],
      "authorship_tag": "ABX9TyNQVEqXpNOZlBVu/f0aJXyE"
    },
    "kernelspec": {
      "name": "python3",
      "display_name": "Python 3"
    },
    "language_info": {
      "name": "python"
    }
  },
  "cells": [
    {
      "cell_type": "code",
      "execution_count": null,
      "metadata": {
        "id": "6fRa8IqSIQej"
      },
      "outputs": [],
      "source": [
        "# Q.1  WAPP to calculate the total bill at a grocery store. The user can input prices for 5 items,and if the total price exceeds $100, a discount of 10% is applied."
      ]
    },
    {
      "cell_type": "code",
      "source": [
        "total_price=0\n",
        "for i in range (5):\n",
        "  price=float(input(f\"Enter price of item{i+1}: \"))\n",
        "  total_price+=price\n",
        "\n",
        "if total_price>100:\n",
        "  total_price*=9    #apply 10% discount\n",
        "print(f\"Total bill after discount(if applicable):${total_price:2f}\")"
      ],
      "metadata": {
        "colab": {
          "base_uri": "https://localhost:8080/"
        },
        "id": "ANmY9h_WIz6h",
        "outputId": "eaf10057-23ad-4c0b-eaaa-4b4350499f4e"
      },
      "execution_count": 2,
      "outputs": [
        {
          "output_type": "stream",
          "name": "stdout",
          "text": [
            "Enter price of item1: 2\n",
            "Enter price of item2: 36\n",
            "Enter price of item3: 52\n",
            "Enter price of item4: 56\n",
            "Enter price of item5: 96\n",
            "Total bill after discount(if applicable):$2178.000000\n"
          ]
        }
      ]
    },
    {
      "cell_type": "code",
      "source": [
        "# Q.2  Create a program that asks a student to input their grade(0-100)and classify them into\"Fail\",\"pass\"or \"Excellent\" using conditional statements.(Fail:<40,pass:40-80,Excellent:>80)"
      ],
      "metadata": {
        "id": "Cgs8NBPwJgxG"
      },
      "execution_count": 3,
      "outputs": []
    },
    {
      "cell_type": "code",
      "source": [
        "grade=int(input(\"Enter your grade: \"))\n",
        "if grade<40:\n",
        "  print(\"fail\")\n",
        "elif 40<=grade<=80:\n",
        "  print(\"Pass\")\n",
        "else:\n",
        "  print(\"Excellent\")"
      ],
      "metadata": {
        "colab": {
          "base_uri": "https://localhost:8080/"
        },
        "id": "76jopmafK3ix",
        "outputId": "e3ad1e14-6704-4b03-cbfc-dbb5ac92b524"
      },
      "execution_count": 6,
      "outputs": [
        {
          "output_type": "stream",
          "name": "stdout",
          "text": [
            "Enter your grade: 98\n",
            "Excellent\n"
          ]
        }
      ]
    },
    {
      "cell_type": "code",
      "source": [
        "# Q.3 You have a list of employee names and a corresponding list of their salaries. write a python program to priint each employees name along with their salary using a loop"
      ],
      "metadata": {
        "id": "U03b5GjrLZBV"
      },
      "execution_count": 8,
      "outputs": []
    },
    {
      "cell_type": "code",
      "source": [
        "employees=['Sam','Raj','Mohit','Pooja']\n",
        "salaries=[50000,60000,70000,80000]\n",
        "\n",
        "for i in range(len(employees)):\n",
        "  print(f\"Employees:{employees[i]} Salary:Rs:{salaries[i]}\")"
      ],
      "metadata": {
        "colab": {
          "base_uri": "https://localhost:8080/"
        },
        "id": "Wuje6yLbMbWe",
        "outputId": "ff338d32-1bc1-41f1-aa47-14f836e8d377"
      },
      "execution_count": 15,
      "outputs": [
        {
          "output_type": "stream",
          "name": "stdout",
          "text": [
            "Employees:Sam Salary:Rs:50000\n",
            "Employees:Raj Salary:Rs:60000\n",
            "Employees:Mohit Salary:Rs:70000\n",
            "Employees:Pooja Salary:Rs:80000\n"
          ]
        }
      ]
    },
    {
      "cell_type": "code",
      "source": [
        "# Q.5  WAPP that keeps asking the user to input a password. the password must contain at least 8 characters, if it;s less, the program should ask again until a valid password is rntered"
      ],
      "metadata": {
        "id": "6knD4GClNErf"
      },
      "execution_count": 16,
      "outputs": []
    },
    {
      "cell_type": "code",
      "source": [
        "while True:\n",
        "  password=input(\"Enter a password(minimum 8 characters): \")\n",
        "  if len(password)>=8:\n",
        "    print(\"Password accepted\")\n",
        "    break\n",
        "  else:\n",
        "    print(\"Password too short. Try again.\")"
      ],
      "metadata": {
        "colab": {
          "base_uri": "https://localhost:8080/"
        },
        "id": "Z_BcsZiDPRna",
        "outputId": "323c97e4-2d5e-451c-ae2d-0ed92263b8b8"
      },
      "execution_count": 17,
      "outputs": [
        {
          "output_type": "stream",
          "name": "stdout",
          "text": [
            "Enter a password(minimum 8 characters): 15245\n",
            "Password too short. Try again.\n",
            "Enter a password(minimum 8 characters): 651545165\n",
            "Password accepted\n"
          ]
        }
      ]
    },
    {
      "cell_type": "code",
      "source": [
        "# Q.6 create a list to store daily tasks. allow the user to add 5 tasks one by one, then display the list of tasks\n"
      ],
      "metadata": {
        "id": "zxUz6F9cPrOp"
      },
      "execution_count": 18,
      "outputs": []
    },
    {
      "cell_type": "code",
      "source": [
        "tasks=[]\n",
        "for i in range(5):\n",
        "  task=input(f\"Enter task{i+1}:\")\n",
        "  tasks.append(task)\n",
        "\n",
        "print(\"Your tasks for today are:\")\n",
        "for task in tasks:\n",
        "  print(f\"->{task}\")"
      ],
      "metadata": {
        "colab": {
          "base_uri": "https://localhost:8080/"
        },
        "id": "F2y3CeL_RcNL",
        "outputId": "2d52d919-6214-4b5b-e6b5-e423b2cf5dc0"
      },
      "execution_count": 22,
      "outputs": [
        {
          "output_type": "stream",
          "name": "stdout",
          "text": [
            "Enter task1:fgk\n",
            "Enter task2:ra\n",
            "Enter task3:ra\n",
            "Enter task4:era\n",
            "Enter task5:ar\n",
            "Your tasks for today are:\n",
            "->fgk\n",
            "->ra\n",
            "->ra\n",
            "->era\n",
            "->ar\n"
          ]
        }
      ]
    },
    {
      "cell_type": "code",
      "source": [
        "# Q.7 given two numbers a and b, write a python program to swap their values using a tuple"
      ],
      "metadata": {
        "id": "QG4QFspcRySJ"
      },
      "execution_count": 23,
      "outputs": []
    },
    {
      "cell_type": "code",
      "source": [
        "a=10\n",
        "b=20\n",
        "print(f\"Before swapping:a={a},b={b}\")\n",
        "a,b=b,a\n",
        "print(f\"After swapping:a={a},b={b}\")"
      ],
      "metadata": {
        "colab": {
          "base_uri": "https://localhost:8080/"
        },
        "id": "pRTz3agZSzHw",
        "outputId": "6a53c60a-dac2-4824-93eb-8a2316974a06"
      },
      "execution_count": 24,
      "outputs": [
        {
          "output_type": "stream",
          "name": "stdout",
          "text": [
            "Before swapping:a=10,b=20\n",
            "After swapping:a=20,b=10\n"
          ]
        }
      ]
    },
    {
      "cell_type": "code",
      "source": [],
      "metadata": {
        "id": "TNcJ4jymTFbC"
      },
      "execution_count": null,
      "outputs": []
    }
  ]
}
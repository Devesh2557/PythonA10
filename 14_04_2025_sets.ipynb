{
  "nbformat": 4,
  "nbformat_minor": 0,
  "metadata": {
    "colab": {
      "provenance": [],
      "authorship_tag": "ABX9TyPZGBXmFOjutQhFAHcgZNI/"
    },
    "kernelspec": {
      "name": "python3",
      "display_name": "Python 3"
    },
    "language_info": {
      "name": "python"
    }
  },
  "cells": [
    {
      "cell_type": "markdown",
      "source": [
        "# Set"
      ],
      "metadata": {
        "id": "PR4uG1alhOSf"
      }
    },
    {
      "cell_type": "code",
      "execution_count": 1,
      "metadata": {
        "id": "hie4TitngPW-"
      },
      "outputs": [],
      "source": [
        "\n",
        "# (1). Introduction = {element1, element2....element n}\n",
        "# (2). Mutable data type--> We can change or update values at a time\n",
        "# (3). It will have only unique values which means it cannot contains duplicate values\n",
        "#(4). Order of values will not arranged."
      ]
    },
    {
      "cell_type": "code",
      "source": [
        "a= {'sam', 45, 'sam' ,'raj', 'sam', 67, 90,45,45}\n",
        "print(a)"
      ],
      "metadata": {
        "colab": {
          "base_uri": "https://localhost:8080/"
        },
        "id": "6FLt3k2Wg86q",
        "outputId": "4ca34731-9ec3-494a-bb52-6c48da7e38c7"
      },
      "execution_count": 8,
      "outputs": [
        {
          "output_type": "stream",
          "name": "stdout",
          "text": [
            "{67, 'sam', 90, 'raj', 45}\n"
          ]
        }
      ]
    },
    {
      "cell_type": "code",
      "source": [
        "type(a)"
      ],
      "metadata": {
        "colab": {
          "base_uri": "https://localhost:8080/"
        },
        "id": "IShcb3iXg_OG",
        "outputId": "164a82d0-b2b5-42f9-a15d-3ae704b6ffa8"
      },
      "execution_count": 6,
      "outputs": [
        {
          "output_type": "execute_result",
          "data": {
            "text/plain": [
              "set"
            ]
          },
          "metadata": {},
          "execution_count": 6
        }
      ]
    },
    {
      "cell_type": "markdown",
      "source": [
        "# Mutability in Sets"
      ],
      "metadata": {
        "id": "1FGruy0jjivG"
      }
    },
    {
      "cell_type": "code",
      "source": [
        "a={'sam',45,'sam','raj','sam'}\n",
        "print(a)\n",
        "a.add('Rahul')\n",
        "print(a)\n",
        "a.remove('sam')\n",
        "print(a)"
      ],
      "metadata": {
        "colab": {
          "base_uri": "https://localhost:8080/"
        },
        "id": "_1vFnphtjnY6",
        "outputId": "60bf191d-4800-4439-c080-c032a38b7fdd"
      },
      "execution_count": 10,
      "outputs": [
        {
          "output_type": "stream",
          "name": "stdout",
          "text": [
            "{'raj', 'sam', 45}\n",
            "{'raj', 'sam', 45, 'Rahul'}\n",
            "{'raj', 45, 'Rahul'}\n"
          ]
        }
      ]
    },
    {
      "cell_type": "markdown",
      "source": [
        "# Loop in Sets\n"
      ],
      "metadata": {
        "id": "C0gGQNtnkobl"
      }
    },
    {
      "cell_type": "code",
      "source": [
        "a={'sam',45,'sam','raj','sam'}\n",
        "for i in a:\n",
        "  print(i)"
      ],
      "metadata": {
        "colab": {
          "base_uri": "https://localhost:8080/"
        },
        "id": "7yBiMOlKkrhY",
        "outputId": "75e3a87f-ed60-42f5-b727-ddb2954573e2"
      },
      "execution_count": 11,
      "outputs": [
        {
          "output_type": "stream",
          "name": "stdout",
          "text": [
            "raj\n",
            "sam\n",
            "45\n"
          ]
        }
      ]
    },
    {
      "cell_type": "code",
      "source": [
        "a= [1,5,2,4,8,3,9,34,10,2,2,5,7,8,1]\n",
        "print(a)\n",
        "a.sort()\n",
        "print(a)\n",
        "#### Task-----> Second minimum element\n",
        "b=set(a)\n",
        "print(b)\n",
        "c=list(b)\n",
        "c.sort()\n",
        "print(c)\n",
        "print(\"Second minimum number: \",c[1])\n",
        "print(\"Second maximum number: \",c[-2])"
      ],
      "metadata": {
        "colab": {
          "base_uri": "https://localhost:8080/"
        },
        "id": "MSX4a7vSkxcw",
        "outputId": "83c1eaf1-8780-4b23-ada8-465ebbc744ea"
      },
      "execution_count": 17,
      "outputs": [
        {
          "output_type": "stream",
          "name": "stdout",
          "text": [
            "[1, 5, 2, 4, 8, 3, 9, 34, 10, 2, 2, 5, 7, 8, 1]\n",
            "[1, 1, 2, 2, 2, 3, 4, 5, 5, 7, 8, 8, 9, 10, 34]\n",
            "{1, 2, 3, 4, 5, 34, 7, 8, 9, 10}\n",
            "[1, 2, 3, 4, 5, 7, 8, 9, 10, 34]\n",
            "Second minimum number:  2\n",
            "Second maximum number:  10\n"
          ]
        }
      ]
    },
    {
      "cell_type": "markdown",
      "source": [
        "# Set operations"
      ],
      "metadata": {
        "id": "tar-P0l9nKBD"
      }
    },
    {
      "cell_type": "code",
      "source": [
        "a={1,2,3}\n",
        "b={4,5,6}\n",
        "c=a+b\n",
        "c"
      ],
      "metadata": {
        "colab": {
          "base_uri": "https://localhost:8080/",
          "height": 201
        },
        "id": "z0kidrmLnOGo",
        "outputId": "e2998aeb-5c39-4919-9a2b-50021c4d9482"
      },
      "execution_count": 20,
      "outputs": [
        {
          "output_type": "error",
          "ename": "TypeError",
          "evalue": "unsupported operand type(s) for +: 'set' and 'set'",
          "traceback": [
            "\u001b[0;31m---------------------------------------------------------------------------\u001b[0m",
            "\u001b[0;31mTypeError\u001b[0m                                 Traceback (most recent call last)",
            "\u001b[0;32m<ipython-input-20-d2b3fccdbf0b>\u001b[0m in \u001b[0;36m<cell line: 0>\u001b[0;34m()\u001b[0m\n\u001b[1;32m      1\u001b[0m \u001b[0ma\u001b[0m\u001b[0;34m=\u001b[0m\u001b[0;34m{\u001b[0m\u001b[0;36m1\u001b[0m\u001b[0;34m,\u001b[0m\u001b[0;36m2\u001b[0m\u001b[0;34m,\u001b[0m\u001b[0;36m3\u001b[0m\u001b[0;34m}\u001b[0m\u001b[0;34m\u001b[0m\u001b[0;34m\u001b[0m\u001b[0m\n\u001b[1;32m      2\u001b[0m \u001b[0mb\u001b[0m\u001b[0;34m=\u001b[0m\u001b[0;34m{\u001b[0m\u001b[0;36m4\u001b[0m\u001b[0;34m,\u001b[0m\u001b[0;36m5\u001b[0m\u001b[0;34m,\u001b[0m\u001b[0;36m6\u001b[0m\u001b[0;34m}\u001b[0m\u001b[0;34m\u001b[0m\u001b[0;34m\u001b[0m\u001b[0m\n\u001b[0;32m----> 3\u001b[0;31m \u001b[0mc\u001b[0m\u001b[0;34m=\u001b[0m\u001b[0ma\u001b[0m\u001b[0;34m+\u001b[0m\u001b[0mb\u001b[0m\u001b[0;34m\u001b[0m\u001b[0;34m\u001b[0m\u001b[0m\n\u001b[0m\u001b[1;32m      4\u001b[0m \u001b[0mc\u001b[0m\u001b[0;34m\u001b[0m\u001b[0;34m\u001b[0m\u001b[0m\n",
            "\u001b[0;31mTypeError\u001b[0m: unsupported operand type(s) for +: 'set' and 'set'"
          ]
        }
      ]
    },
    {
      "cell_type": "code",
      "source": [
        "a={1,2,3,4}\n",
        "b={3,4,5,6}\n",
        "c=a.union(b)\n",
        "print(c)\n",
        "d=a.intersection(b)\n",
        "print(d)\n",
        "f=a&b   #### Second method of intersection\n",
        "print(f)"
      ],
      "metadata": {
        "colab": {
          "base_uri": "https://localhost:8080/"
        },
        "id": "llTcJWJInS_1",
        "outputId": "62bbffbf-a764-451e-af3c-75f2d8b8023d"
      },
      "execution_count": 29,
      "outputs": [
        {
          "output_type": "stream",
          "name": "stdout",
          "text": [
            "{1, 2, 3, 4, 5, 6}\n",
            "{3, 4}\n",
            "{3, 4}\n"
          ]
        }
      ]
    },
    {
      "cell_type": "code",
      "source": [
        "a-b   #### remaining elements in a container when we remove common elements"
      ],
      "metadata": {
        "colab": {
          "base_uri": "https://localhost:8080/"
        },
        "id": "OhFGxcLcncpA",
        "outputId": "ab971176-3898-4f2b-ee22-799adddfd086"
      },
      "execution_count": 30,
      "outputs": [
        {
          "output_type": "execute_result",
          "data": {
            "text/plain": [
              "{1, 2}"
            ]
          },
          "metadata": {},
          "execution_count": 30
        }
      ]
    },
    {
      "cell_type": "code",
      "source": [
        "b-a    #### remaining elements in a container when we remove common elements"
      ],
      "metadata": {
        "colab": {
          "base_uri": "https://localhost:8080/"
        },
        "id": "M2lN9wkOnlBD",
        "outputId": "5ef3f087-7bfb-4838-d2e7-976ced2605af"
      },
      "execution_count": 32,
      "outputs": [
        {
          "output_type": "execute_result",
          "data": {
            "text/plain": [
              "{5, 6}"
            ]
          },
          "metadata": {},
          "execution_count": 32
        }
      ]
    },
    {
      "cell_type": "code",
      "source": [
        "a={1,2,3,4}\n",
        "print(a)\n",
        "a.clear()\n",
        "print(a)"
      ],
      "metadata": {
        "colab": {
          "base_uri": "https://localhost:8080/"
        },
        "id": "dJc_CdLzoRmJ",
        "outputId": "1a11b381-4ff9-4504-cdc1-d53da475f2bc"
      },
      "execution_count": 33,
      "outputs": [
        {
          "output_type": "stream",
          "name": "stdout",
          "text": [
            "{1, 2, 3, 4}\n",
            "set()\n"
          ]
        }
      ]
    },
    {
      "cell_type": "code",
      "source": [],
      "metadata": {
        "id": "x6yvBJrLoWKV"
      },
      "execution_count": null,
      "outputs": []
    }
  ]
}
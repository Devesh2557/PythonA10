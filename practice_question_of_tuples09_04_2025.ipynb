{
  "nbformat": 4,
  "nbformat_minor": 0,
  "metadata": {
    "colab": {
      "provenance": [],
      "authorship_tag": "ABX9TyMH1/GjtglbJWo69aP4ie0F"
    },
    "kernelspec": {
      "name": "python3",
      "display_name": "Python 3"
    },
    "language_info": {
      "name": "python"
    }
  },
  "cells": [
    {
      "cell_type": "markdown",
      "source": [
        "# Tuple Problem Statement\n"
      ],
      "metadata": {
        "id": "TjymnmYdEUkE"
      }
    },
    {
      "cell_type": "code",
      "execution_count": 1,
      "metadata": {
        "id": "_ixtB8bkCLp-"
      },
      "outputs": [],
      "source": [
        "# 1.  a company tracks the monthly sales of 6 employees in a list.\n",
        "# you task is to determine which employees achieved\n",
        "# sales above 5000 units.\n",
        "# Example input:\n",
        "# sales=[4500,6000,3000,8000,5500,4200]\n",
        "# expected output:\n",
        "# [\"Employee 2\",\"Employee 4\",\"Employee 5\"]"
      ]
    },
    {
      "cell_type": "code",
      "source": [
        "sales=[4500,6000,3000,8000,5500,4200]\n",
        "high_performance=[]\n",
        "\n",
        "for i in range(len(sales)):\n",
        "  if sales[i]>5000:\n",
        "    high_performance.append(f\"Employee{i+1}\")\n",
        "print(high_performance)"
      ],
      "metadata": {
        "colab": {
          "base_uri": "https://localhost:8080/"
        },
        "id": "7wltOatCDWEZ",
        "outputId": "f07b8c6a-2462-454b-a273-55b2bc703c82"
      },
      "execution_count": 4,
      "outputs": [
        {
          "output_type": "stream",
          "name": "stdout",
          "text": [
            "['Employee2', 'Employee4', 'Employee5']\n"
          ]
        }
      ]
    },
    {
      "cell_type": "code",
      "source": [
        "# 2. Find the most expansive product in a store\n",
        "# Problem Statement\n",
        "# A store sells different products and their prices are stored in a list.\n",
        "# find the most expansive product.\n",
        "\n",
        "# Example input:\n",
        "# products=[\"Laptop\",\"Phone\",\"Headphones\",\"Monitor\",\"Keyboard\"]\n",
        "# prices=[800,500,200,300,100]\n",
        "# Expected output\n",
        "# 'Laptop-$800'"
      ],
      "metadata": {
        "id": "wNGvcpqcDvEX"
      },
      "execution_count": 5,
      "outputs": []
    },
    {
      "cell_type": "code",
      "source": [
        "products=[\"Laptop\",\"Phone\",\"Headphones\",\"Monitor\",\"Keyboard\"]\n",
        "prices=[800,500,200,300,100]\n",
        "max_price=max(prices)\n",
        "index=prices.index(max_price)\n",
        "print(f\"{products[index]}-${max_price}\")"
      ],
      "metadata": {
        "colab": {
          "base_uri": "https://localhost:8080/"
        },
        "id": "5CMO0bBIFt3Y",
        "outputId": "191c2a5c-b845-4492-a2c0-a9702aca1d9a"
      },
      "execution_count": 6,
      "outputs": [
        {
          "output_type": "stream",
          "name": "stdout",
          "text": [
            "Laptop-$800\n"
          ]
        }
      ]
    },
    {
      "cell_type": "code",
      "source": [
        "products=[\"Laptop\",\"Phone\",\"Headphones\",\"Monitor\",\"Keyboard\"]\n",
        "prices=[800,500,200,300,100]\n",
        "min_price=min(prices)\n",
        "index=prices.index(min_price)\n",
        "print(f\"{products[index]}-${min_price}\")"
      ],
      "metadata": {
        "colab": {
          "base_uri": "https://localhost:8080/"
        },
        "id": "_Chzv-8yGfu0",
        "outputId": "62103c68-5a76-4859-9b82-92c1bde9c39d"
      },
      "execution_count": 8,
      "outputs": [
        {
          "output_type": "stream",
          "name": "stdout",
          "text": [
            "Keyboard-$100\n"
          ]
        }
      ]
    },
    {
      "cell_type": "code",
      "source": [
        "# 3. Count how many coustomers made large purchases\n",
        "# Probelm statement\n",
        "# a company has a list of coustomers and their total puchase amounts.\n",
        "# find how many customers have spent more then $1000.\n",
        "\n",
        "# Example input:\n",
        "# customers=[\"John\",\"Emma\",\"Liam\",\"Sophia\",\"David\"]\n",
        "# purchases=[1200,800,1500,700,2200]"
      ],
      "metadata": {
        "id": "7DygiA2hGE8z"
      },
      "execution_count": 9,
      "outputs": []
    },
    {
      "cell_type": "code",
      "source": [
        "customers=[\"John\",\"Emma\",\"Liam\",\"Sophia\",\"David\"]\n",
        "purchases=[1200,800,1500,700,2200]\n",
        "customer=0\n",
        "for purchase in purchases:\n",
        "  if purchase>1000:\n",
        "    customer+= 1\n",
        "print(customer)"
      ],
      "metadata": {
        "colab": {
          "base_uri": "https://localhost:8080/"
        },
        "id": "gbwJyetgHxCt",
        "outputId": "2598dea6-4ec0-4e04-e630-ac9d1b688b18"
      },
      "execution_count": 13,
      "outputs": [
        {
          "output_type": "stream",
          "name": "stdout",
          "text": [
            "3\n"
          ]
        }
      ]
    },
    {
      "cell_type": "code",
      "source": [
        "customers=[\"John\",\"Emma\",\"Liam\",\"Sophia\",\"David\"]\n",
        "purchases=[1200,800,1500,700,2200]\n",
        "customer=0\n",
        "for purchase in purchases:\n",
        "  if 500<=purchase>=1500:\n",
        "    customer+= 1\n",
        "print(customer)"
      ],
      "metadata": {
        "colab": {
          "base_uri": "https://localhost:8080/"
        },
        "id": "kwGpUIybIC2X",
        "outputId": "bda33320-1442-4444-a778-1f5b89522f0d"
      },
      "execution_count": 14,
      "outputs": [
        {
          "output_type": "stream",
          "name": "stdout",
          "text": [
            "2\n"
          ]
        }
      ]
    },
    {
      "cell_type": "code",
      "source": [
        "# 4. identify low stock products in an inventory\n",
        "\n",
        "# problem statement:\n",
        "# a warehouse stores products and their stock levels are listed.\n",
        "# Identify products with a stock below 5 units.\n",
        "\n",
        "# example input:\n",
        "# products=[\"shirts\",\"jeans\",\"jackets\",\"shoes\",\"hats\"]\n",
        "# stock=[3,10,4,15,2]\n",
        "# expected output:\n",
        "# \"low stock products:['shirts','jackets','hats']\""
      ],
      "metadata": {
        "id": "hXS_2DxxIKrd"
      },
      "execution_count": 15,
      "outputs": []
    },
    {
      "cell_type": "code",
      "source": [
        "products = [\"shirts\", \"jeans\", \"jackets\", \"shoes\", \"hats\"]\n",
        "stock = [3, 10, 4, 15, 2]\n",
        "low_stock_products = []\n",
        "for i in range(len(stock)):\n",
        "    if stock[i] < 5:\n",
        "        low_stock_products.append(products[i])\n",
        "print(\"low stock products:\", low_stock_products)"
      ],
      "metadata": {
        "colab": {
          "base_uri": "https://localhost:8080/"
        },
        "id": "acHJ9kMUJj6G",
        "outputId": "7dbe4daa-3a7e-4363-8c0b-2fdcef80d8d1"
      },
      "execution_count": 17,
      "outputs": [
        {
          "output_type": "stream",
          "name": "stdout",
          "text": [
            "low stock products: ['shirts', 'jackets', 'hats']\n"
          ]
        }
      ]
    },
    {
      "cell_type": "code",
      "source": [
        "# 5. Calculate employee bonus based on high_performance\n",
        "# Problem statement:\n",
        "# A company awards bonuses based on employee performance scores.\n",
        "# employees who scored above 80 receive a $500 bonus,\n",
        "# while those scoring between 50 and 80 receive $200.\n",
        "# others get no bonus. calculate the bounses for all employees.\n",
        "\n",
        "# example input:\n",
        "# employees=[\"Alice\",\"Bob\",\"charlie\",\"davod\",\"eve\"]\n",
        "# scores=[85,70,90,45,60]\n",
        "# Expected output:\n",
        "# alice gets $500, bob gets $200, charlie gets $500, david gets$0 eve gets $0"
      ],
      "metadata": {
        "id": "MIpNLSa2Jk0J"
      },
      "execution_count": 18,
      "outputs": []
    },
    {
      "cell_type": "code",
      "source": [
        "employees = [\"Alice\", \"Bob\", \"Charlie\", \"David\", \"Eve\"]\n",
        "scores = [85, 70, 90, 45, 60]\n",
        "bonuses=[]\n",
        "for i in range(len(scores)):\n",
        "    if scores[i] > 80:\n",
        "        bonus = 500\n",
        "    elif scores[i] >= 50:\n",
        "        bonus = 200\n",
        "    else:\n",
        "        bonus = 0\n",
        "    bonuses.append(f\"{employees[i]} gets ${bonus}\")\n",
        "\n",
        "print(\", \".join(bonuses))"
      ],
      "metadata": {
        "colab": {
          "base_uri": "https://localhost:8080/"
        },
        "id": "ofxoB9l2LAP7",
        "outputId": "b4de1503-57cd-4715-f29d-6603cb4ca9cf"
      },
      "execution_count": 29,
      "outputs": [
        {
          "output_type": "stream",
          "name": "stdout",
          "text": [
            "Alice gets $500, Bob gets $200, Charlie gets $500, David gets $0, Eve gets $200\n"
          ]
        }
      ]
    },
    {
      "cell_type": "code",
      "source": [],
      "metadata": {
        "id": "xAmo64naLixC"
      },
      "execution_count": null,
      "outputs": []
    }
  ]
}
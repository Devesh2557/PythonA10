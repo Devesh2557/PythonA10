{
  "nbformat": 4,
  "nbformat_minor": 0,
  "metadata": {
    "colab": {
      "provenance": [],
      "authorship_tag": "ABX9TyOMs9lQjFlZLBM3CwfsaL5l"
    },
    "kernelspec": {
      "name": "python3",
      "display_name": "Python 3"
    },
    "language_info": {
      "name": "python"
    }
  },
  "cells": [
    {
      "cell_type": "code",
      "source": [
        "# loop in python (condition ko multiple time altrate krvana)\n",
        "# (a) while loop\n",
        "# (b) for loop"
      ],
      "metadata": {
        "id": "hpnQPvDMj7xs"
      },
      "execution_count": 4,
      "outputs": []
    },
    {
      "cell_type": "code",
      "source": [
        "# (a) While loop"
      ],
      "metadata": {
        "id": "tRivD_viodA4"
      },
      "execution_count": 5,
      "outputs": []
    },
    {
      "cell_type": "code",
      "source": [
        "# initialization\n",
        "# condition\n",
        "# incerment"
      ],
      "metadata": {
        "id": "bRPYcm5TkPba"
      },
      "execution_count": 6,
      "outputs": []
    },
    {
      "cell_type": "code",
      "source": [
        "# Q.1 WAP who print from 1 to 4?"
      ],
      "metadata": {
        "id": "tERoR6Y7mvJd"
      },
      "execution_count": 7,
      "outputs": []
    },
    {
      "cell_type": "code",
      "source": [
        "i = 1\n",
        "n = 4\n",
        "while(i<=n):\n",
        "  print(i)\n",
        "  i=i+1"
      ],
      "metadata": {
        "colab": {
          "base_uri": "https://localhost:8080/"
        },
        "id": "P62bmdELovuk",
        "outputId": "c06ad28f-6dfb-4719-b3f1-11ea25a625a5"
      },
      "execution_count": 9,
      "outputs": [
        {
          "output_type": "stream",
          "name": "stdout",
          "text": [
            "1\n",
            "2\n",
            "3\n",
            "4\n"
          ]
        }
      ]
    },
    {
      "cell_type": "code",
      "source": [
        "# solution\n",
        "# step 1 :- while(1<=4)\n",
        "#           print(1)\n",
        "#           i=1+1 =2\n",
        "# step 2 :- while(2<=4)\n",
        "#           print(2)\n",
        "#           i = 2+1 = 3\n",
        "# step 3 :- while(3<=4)\n",
        "#           print(3)\n",
        "#           i = 3+1 = 4\n",
        "# step 4 :- while(4<=4)\n",
        "#           print(4)\n",
        "#           i = 4+1 =5\n",
        "# step 5 :- while(5<=4)\n",
        "#           break"
      ],
      "metadata": {
        "id": "EfbHerO4o4tC"
      },
      "execution_count": 10,
      "outputs": []
    },
    {
      "cell_type": "code",
      "source": [
        "# user defined program"
      ],
      "metadata": {
        "id": "pJ_-p9Qoqx0d"
      },
      "execution_count": 13,
      "outputs": []
    },
    {
      "cell_type": "code",
      "source": [
        "i = int(input(\"Enter a number\"))\n",
        "n = int(input(\"Enter last number\"))\n",
        "p = int(input(\"Enter step number\"))\n",
        "while(i<=n):\n",
        "  print(i)\n",
        "  i=i+p"
      ],
      "metadata": {
        "colab": {
          "base_uri": "https://localhost:8080/"
        },
        "id": "lBsXEXeRq23r",
        "outputId": "112b4862-5f51-490c-81b8-f1b9a87be238"
      },
      "execution_count": 14,
      "outputs": [
        {
          "output_type": "stream",
          "name": "stdout",
          "text": [
            "Enter a number1\n",
            "Enter last number11\n",
            "Enter step number2\n",
            "1\n",
            "3\n",
            "5\n",
            "7\n",
            "9\n",
            "11\n"
          ]
        }
      ]
    },
    {
      "cell_type": "code",
      "source": [
        "# Q.2 WAP who print from 4 to 1?"
      ],
      "metadata": {
        "id": "h6Kwr7RcqhUW"
      },
      "execution_count": 11,
      "outputs": []
    },
    {
      "cell_type": "code",
      "source": [
        "i=4\n",
        "n=1\n",
        "while(i>=n):\n",
        "  print(i)\n",
        "  i=i-1"
      ],
      "metadata": {
        "colab": {
          "base_uri": "https://localhost:8080/"
        },
        "id": "vzkK_WM-qk7U",
        "outputId": "a9344162-d012-41a6-ca28-b801a7a1ca87"
      },
      "execution_count": 15,
      "outputs": [
        {
          "output_type": "stream",
          "name": "stdout",
          "text": [
            "4\n",
            "3\n",
            "2\n",
            "1\n"
          ]
        }
      ]
    },
    {
      "cell_type": "code",
      "source": [
        "# solution\n",
        "\n",
        "# Step 1:-(i=4,n=1)\n",
        "#         while(4>=1)\n",
        "#         print(4)\n",
        "#         i=4-1=3\n",
        "# Step 2:-(i=3,n=1)\n",
        "#         while(3>=1)\n",
        "#         print(3)\n",
        "#         i=3-1=2\n",
        "# step 3:-(i=2,n=1)\n",
        "#         while(2>=1)\n",
        "#         print(2)\n",
        "#         i=2-1=1\n",
        "# step 4:-(i=1,n=1)\n",
        "#         while(1>=1)\n",
        "#         print(1)\n",
        "#         i=1-1=0\n",
        "# step 5:-(i=0,n=1)\n",
        "#         while(0>=1)\n",
        "#         break"
      ],
      "metadata": {
        "id": "4Vqp1ch6quAm"
      },
      "execution_count": 16,
      "outputs": []
    },
    {
      "cell_type": "code",
      "source": [
        "# Q.3 WAP who calculate sum of square of a given number"
      ],
      "metadata": {
        "id": "4kCKDvMdsX_o"
      },
      "execution_count": 17,
      "outputs": []
    },
    {
      "cell_type": "code",
      "source": [
        "i=123\n",
        "sum=0\n",
        "while(i>0):\n",
        "  sum=sum+(i%10)*(i%10)\n",
        "  i=i//10\n",
        "print(sum)"
      ],
      "metadata": {
        "colab": {
          "base_uri": "https://localhost:8080/"
        },
        "id": "52JDCWn6tmGK",
        "outputId": "7619f792-e5ea-4f01-9b72-507216525263"
      },
      "execution_count": 18,
      "outputs": [
        {
          "output_type": "stream",
          "name": "stdout",
          "text": [
            "14\n"
          ]
        }
      ]
    },
    {
      "cell_type": "code",
      "source": [
        "# solution\n",
        "# Step1:- (i=123,sum=0)\n",
        "#         while(123>0)\n",
        "#         sum=0+(123%10)*(123%10)=0+3*3=9\n",
        "#         i=123//10=12\n",
        "# print(sum)\n",
        "# Step2:- (i=12,sum=9)\n",
        "#         while(12>0)\n",
        "#         sum=9+(12%10)*(12%10)=9+2*2=13\n",
        "#         i=12//10=1\n",
        "# print(sum)\n",
        "# Step3:- (i=1,sum=13)\n",
        "#         while(1>0)\n",
        "#         sum=13+(1%10)*(1%10)=13+1*1=14\n",
        "#         i=1//10=0\n",
        "# print(sum)\n",
        "# Step4:- (i=0,sum=0)\n",
        "#         while(0>0)\n",
        ""
      ],
      "metadata": {
        "id": "YNW0UksLt5ZJ"
      },
      "execution_count": 19,
      "outputs": []
    },
    {
      "cell_type": "code",
      "source": [
        "# Q.4 WAP who calculate cube of square of a given number"
      ],
      "metadata": {
        "id": "9vO3Nlg0vH5R"
      },
      "execution_count": 20,
      "outputs": []
    },
    {
      "cell_type": "code",
      "source": [
        "i=123\n",
        "sum=0\n",
        "while(i>0):\n",
        "  sum=sum+(i%10)*(i%10)*(i%10)\n",
        "  i=i//10\n",
        "print(sum)"
      ],
      "metadata": {
        "colab": {
          "base_uri": "https://localhost:8080/"
        },
        "id": "fdXO3NI4vLpJ",
        "outputId": "4ce8de4f-bdcd-4057-a8a3-00a773177c6b"
      },
      "execution_count": 21,
      "outputs": [
        {
          "output_type": "stream",
          "name": "stdout",
          "text": [
            "36\n"
          ]
        }
      ]
    },
    {
      "cell_type": "code",
      "source": [
        "# Armstrong number ----------> sum of cube ==user"
      ],
      "metadata": {
        "id": "bo3vrYRgvQKt"
      },
      "execution_count": 22,
      "outputs": []
    },
    {
      "cell_type": "code",
      "source": [
        "# 153=1**3+5**3+3**3=153"
      ],
      "metadata": {
        "id": "ZWaZyXAHvhey"
      },
      "execution_count": 23,
      "outputs": []
    },
    {
      "cell_type": "code",
      "source": [
        "i=153\n",
        "orig=i\n",
        "sum=0\n",
        "while(i>0):\n",
        "  sum=sum+(i%10)*(i%10)*(i%10)\n",
        "  i=i//10\n",
        "\n",
        "if(orig==sum):\n",
        "  print(\"Armstrong number\")\n",
        "else:\n",
        "  print(\"No armstrong number\")"
      ],
      "metadata": {
        "colab": {
          "base_uri": "https://localhost:8080/"
        },
        "id": "x7JrW-gwvqet",
        "outputId": "4a55fa56-449d-4e69-c8c4-8c1e1a627563"
      },
      "execution_count": 26,
      "outputs": [
        {
          "output_type": "stream",
          "name": "stdout",
          "text": [
            "Armstrong number\n"
          ]
        }
      ]
    },
    {
      "cell_type": "code",
      "source": [
        "# User Input Method"
      ],
      "metadata": {
        "id": "Ay2eUhugwilA"
      },
      "execution_count": 30,
      "outputs": []
    },
    {
      "cell_type": "code",
      "source": [
        "i=int(input(\"Enter number\"))\n",
        "orig=i\n",
        "sum=0\n",
        "while(i>0):\n",
        "  sum=sum+(i%10)*(i%10)*(i%10)\n",
        "  i=i//10\n",
        "\n",
        "if(orig==sum):\n",
        "  print(\"Armstrong number\")\n",
        "else:\n",
        "  print(\"No armstrong number\")"
      ],
      "metadata": {
        "colab": {
          "base_uri": "https://localhost:8080/"
        },
        "id": "Y1aHhceWwDPG",
        "outputId": "5b7eb507-764e-4160-abf0-f537efdeec73"
      },
      "execution_count": 29,
      "outputs": [
        {
          "output_type": "stream",
          "name": "stdout",
          "text": [
            "Enter number153\n",
            "Armstrong number\n"
          ]
        }
      ]
    },
    {
      "cell_type": "code",
      "source": [],
      "metadata": {
        "id": "tSvQM0g2wRqX"
      },
      "execution_count": 27,
      "outputs": []
    }
  ]
}

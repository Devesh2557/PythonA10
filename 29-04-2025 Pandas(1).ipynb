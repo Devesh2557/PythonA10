{
 "cells": [
  {
   "cell_type": "code",
   "execution_count": 21,
   "id": "1381718d-b66c-4ceb-b614-dc46dd6f286c",
   "metadata": {},
   "outputs": [],
   "source": [
    "import numpy as np"
   ]
  },
  {
   "cell_type": "markdown",
   "id": "3b19f605-59cc-4e8b-9fad-6e52550d6f94",
   "metadata": {},
   "source": [
    "### Random Module"
   ]
  },
  {
   "cell_type": "code",
   "execution_count": 39,
   "id": "6e06a58d-261c-4cb4-bc85-7d1a638373b0",
   "metadata": {},
   "outputs": [
    {
     "data": {
      "text/plain": [
       "array([90])"
      ]
     },
     "execution_count": 39,
     "metadata": {},
     "output_type": "execute_result"
    }
   ],
   "source": [
    "# (1).  Randint()   ---------->(It generates random numbers between conditions)\n",
    "a=np.random.randint(1,120,1)\n",
    "a"
   ]
  },
  {
   "cell_type": "code",
   "execution_count": 43,
   "id": "44ec2b33-600e-4baa-b5a2-60e6a0f2f9f4",
   "metadata": {},
   "outputs": [
    {
     "data": {
      "text/plain": [
       "array([0.90082072, 0.49243514, 0.66802368, 0.52198848, 0.98814101,\n",
       "       0.16227348, 0.39397176, 0.48882199, 0.85224863, 0.04007312])"
      ]
     },
     "execution_count": 43,
     "metadata": {},
     "output_type": "execute_result"
    }
   ],
   "source": [
    "# (2). Rand()-------------> (It gives the randeom number between 0 to 1)\n",
    "a=np.random.rand(10)\n",
    "a"
   ]
  },
  {
   "cell_type": "code",
   "execution_count": 70,
   "id": "0308891f-3801-46c3-95a7-3ae035479a57",
   "metadata": {},
   "outputs": [
    {
     "data": {
      "text/plain": [
       "array([6, 9, 6])"
      ]
     },
     "execution_count": 70,
     "metadata": {},
     "output_type": "execute_result"
    }
   ],
   "source": [
    "#  (3). Seed()------------> (It generates the number and fix them it means ek baar jo number create ho gye vo ab change nhi honge)\n",
    "np.random.seed(1)\n",
    "a=np.random.randint(1,10,3)\n",
    "a"
   ]
  },
  {
   "cell_type": "markdown",
   "id": "495d9fe6-d3a8-4164-b5d0-bef29030fa0d",
   "metadata": {},
   "source": [
    "# Reshaping the array\n",
    "\n",
    "#### n(rows)*n(columns)=n(total_elements)"
   ]
  },
  {
   "cell_type": "code",
   "execution_count": 100,
   "id": "40f11e02-4950-4662-a646-c91df5aedee8",
   "metadata": {},
   "outputs": [
    {
     "data": {
      "text/plain": [
       "array([31, 33, 23, 14, 42, 10,  8, 23,  2,  1, 18,  9])"
      ]
     },
     "execution_count": 100,
     "metadata": {},
     "output_type": "execute_result"
    }
   ],
   "source": [
    "a=np.random.randint(1,50,12)\n",
    "a"
   ]
  },
  {
   "cell_type": "code",
   "execution_count": 102,
   "id": "1f0689b4-b34d-49c9-a40b-974cc5dc19a5",
   "metadata": {},
   "outputs": [
    {
     "data": {
      "text/plain": [
       "array([31, 33, 23, 14, 42, 10,  8, 23,  2,  1, 18,  9])"
      ]
     },
     "execution_count": 102,
     "metadata": {},
     "output_type": "execute_result"
    }
   ],
   "source": [
    "a.reshape(2,6)\n",
    "a"
   ]
  },
  {
   "cell_type": "code",
   "execution_count": 104,
   "id": "eb498d65-81ae-415e-a4fb-2335859e2ae9",
   "metadata": {},
   "outputs": [
    {
     "data": {
      "text/plain": [
       "array([[31, 33],\n",
       "       [23, 14],\n",
       "       [42, 10],\n",
       "       [ 8, 23],\n",
       "       [ 2,  1],\n",
       "       [18,  9]])"
      ]
     },
     "execution_count": 104,
     "metadata": {},
     "output_type": "execute_result"
    }
   ],
   "source": [
    "a.reshape(6,2)"
   ]
  },
  {
   "cell_type": "code",
   "execution_count": 105,
   "id": "2eb8dd06-7d34-434a-84e3-e550c834e4f0",
   "metadata": {},
   "outputs": [
    {
     "data": {
      "text/plain": [
       "array([[31, 33, 23, 14],\n",
       "       [42, 10,  8, 23],\n",
       "       [ 2,  1, 18,  9]])"
      ]
     },
     "execution_count": 105,
     "metadata": {},
     "output_type": "execute_result"
    }
   ],
   "source": [
    "a.reshape(3,4)"
   ]
  },
  {
   "cell_type": "code",
   "execution_count": 106,
   "id": "8cb9b6cf-0d85-483e-8c0f-e0ee0b291e3f",
   "metadata": {},
   "outputs": [
    {
     "data": {
      "text/plain": [
       "array([[31, 33, 23],\n",
       "       [14, 42, 10],\n",
       "       [ 8, 23,  2],\n",
       "       [ 1, 18,  9]])"
      ]
     },
     "execution_count": 106,
     "metadata": {},
     "output_type": "execute_result"
    }
   ],
   "source": [
    "a.reshape(4,3)"
   ]
  },
  {
   "cell_type": "code",
   "execution_count": 107,
   "id": "e20f3623-eba8-4cfb-a050-922f28aaef06",
   "metadata": {},
   "outputs": [],
   "source": [
    "# Unique()------->\n",
    "# (1). It means ek aisa array create krna jisme duplicate entries allows nhi ho.\n",
    "# (2). ek ek random number ki indexing vha dekhne ko milegi of unique number.\n",
    "# (3). ek original value kitne itme replicate hui h.\n",
    "\n",
    "# arr------> unique elements of array.\n",
    "# return_index=true------> Return undexing of unique elements.\n",
    "# return_counts=true------->Return frequency of unique elements.\n"
   ]
  },
  {
   "cell_type": "code",
   "execution_count": 118,
   "id": "7ec3bb8e-4b1c-4d16-a2a4-7ef58bed63a5",
   "metadata": {},
   "outputs": [
    {
     "data": {
      "text/plain": [
       "array([1, 1, 2, 3, 3, 4, 4, 5, 6, 7, 8])"
      ]
     },
     "execution_count": 118,
     "metadata": {},
     "output_type": "execute_result"
    }
   ],
   "source": [
    "a=np.array([1,1,2,3,3,4,4,5,6,7,8])\n",
    "a"
   ]
  },
  {
   "cell_type": "code",
   "execution_count": 126,
   "id": "3ff6b76a-c27b-434a-9dcc-4024c0ab432f",
   "metadata": {},
   "outputs": [
    {
     "data": {
      "text/plain": [
       "(array([1, 2, 3, 4, 5, 6, 7, 8]),\n",
       " array([ 0,  2,  3,  5,  7,  8,  9, 10], dtype=int64),\n",
       " array([2, 1, 2, 2, 1, 1, 1, 1], dtype=int64))"
      ]
     },
     "execution_count": 126,
     "metadata": {},
     "output_type": "execute_result"
    }
   ],
   "source": [
    "np.unique(a,return_index=True,return_counts=True)"
   ]
  },
  {
   "cell_type": "code",
   "execution_count": 130,
   "id": "3ea0bad1-cc67-4c4f-836f-628900f001c4",
   "metadata": {},
   "outputs": [],
   "source": [
    "# Linspace()--------------> (ek array banana jisme min value and max value k beech m same gap ki values ho)\n",
    "# It will create a array in which gap of values will be equal.\n",
    "# syntax:-  np.linespace(min,max,total_numbers)"
   ]
  },
  {
   "cell_type": "code",
   "execution_count": 136,
   "id": "9a36255d-3db8-4b5d-97f1-fd362ffb230f",
   "metadata": {},
   "outputs": [
    {
     "data": {
      "text/plain": [
       "array([1.        , 1.16666667, 1.33333333, 1.5       , 1.66666667,\n",
       "       1.83333333, 2.        ])"
      ]
     },
     "execution_count": 136,
     "metadata": {},
     "output_type": "execute_result"
    }
   ],
   "source": [
    "a=np.linspace(1,2,7)\n",
    "a"
   ]
  },
  {
   "cell_type": "code",
   "execution_count": 151,
   "id": "4996e2d3-f6f2-41a0-ba1a-1ed9e30ca817",
   "metadata": {},
   "outputs": [],
   "source": [
    "# Hstack and Vstack\n",
    "\n",
    "# Hstack:- It will combined all the arrays in horizontally.\n",
    "# Vstack:- It will combined all the arrays in vertically."
   ]
  },
  {
   "cell_type": "code",
   "execution_count": 153,
   "id": "298c59aa-5046-41a2-a448-a92603ea6647",
   "metadata": {},
   "outputs": [],
   "source": [
    "a=np.array([1,2,3,4,5])\n",
    "b=np.array([6,7,8,9,10])\n",
    "c=np.array([11,12,13,14,15])"
   ]
  },
  {
   "cell_type": "code",
   "execution_count": 157,
   "id": "e91c78a1-fd8b-4ddb-98e9-813c18cf9cee",
   "metadata": {},
   "outputs": [
    {
     "data": {
      "text/plain": [
       "array([ 1,  2,  3,  4,  5,  6,  7,  8,  9, 10, 11, 12, 13, 14, 15])"
      ]
     },
     "execution_count": 157,
     "metadata": {},
     "output_type": "execute_result"
    }
   ],
   "source": [
    "np.hstack([a,b,c])"
   ]
  },
  {
   "cell_type": "code",
   "execution_count": 161,
   "id": "42dde50b-e61b-417c-9fe4-b3bbac7c127d",
   "metadata": {},
   "outputs": [
    {
     "data": {
      "text/plain": [
       "array([[ 1,  2,  3,  4,  5],\n",
       "       [ 6,  7,  8,  9, 10],\n",
       "       [11, 12, 13, 14, 15]])"
      ]
     },
     "execution_count": 161,
     "metadata": {},
     "output_type": "execute_result"
    }
   ],
   "source": [
    "np.vstack([a,b,c])"
   ]
  },
  {
   "cell_type": "code",
   "execution_count": null,
   "id": "571256bb-8023-4f23-bc76-34166ee293f4",
   "metadata": {},
   "outputs": [],
   "source": []
  },
  {
   "cell_type": "code",
   "execution_count": null,
   "id": "b2251fb7-0dd3-4e11-a85b-5d8f12871b46",
   "metadata": {},
   "outputs": [],
   "source": []
  },
  {
   "cell_type": "markdown",
   "id": "2600993b-349b-4c51-9831-903a08ab386b",
   "metadata": {},
   "source": [
    "# pandas------> It is an open source library of python which is used to handle data manupulation."
   ]
  },
  {
   "cell_type": "code",
   "execution_count": 168,
   "id": "7ba14766-fa57-49de-af8d-a8b0e52dfd6b",
   "metadata": {},
   "outputs": [],
   "source": [
    "# !pip install pd"
   ]
  },
  {
   "cell_type": "code",
   "execution_count": 171,
   "id": "3913c63d-82f0-443a-9185-d6b868eeb7a8",
   "metadata": {},
   "outputs": [],
   "source": [
    "import pandas as pd"
   ]
  },
  {
   "cell_type": "code",
   "execution_count": 173,
   "id": "bd41e676-c07b-4e5a-ad2e-2a597de53804",
   "metadata": {},
   "outputs": [],
   "source": [
    "# Data structure of pandas\n",
    "# (1). Series-------> It is one dimensional and it shows only values.\n",
    "# (2). DataFrame----->It is multi-dimensoanl array and it containes value with column name."
   ]
  },
  {
   "cell_type": "markdown",
   "id": "14956a7b-292a-4a64-8282-b242b116afe6",
   "metadata": {},
   "source": [
    "# (a) Series"
   ]
  },
  {
   "cell_type": "code",
   "execution_count": 184,
   "id": "f55cf4fb-68ae-49dd-9b34-2b9f6d21ba47",
   "metadata": {},
   "outputs": [
    {
     "data": {
      "text/plain": [
       "0     1\n",
       "1    45\n",
       "2    97\n",
       "3    18\n",
       "dtype: int64"
      ]
     },
     "execution_count": 184,
     "metadata": {},
     "output_type": "execute_result"
    }
   ],
   "source": [
    "a=pd.Series([1,45,97,18])\n",
    "a"
   ]
  },
  {
   "cell_type": "code",
   "execution_count": 180,
   "id": "a7e866a9-3552-4b46-8e48-5ce09eb058d0",
   "metadata": {},
   "outputs": [
    {
     "data": {
      "text/plain": [
       "pandas.core.series.Series"
      ]
     },
     "execution_count": 180,
     "metadata": {},
     "output_type": "execute_result"
    }
   ],
   "source": [
    "type(a)"
   ]
  },
  {
   "cell_type": "markdown",
   "id": "6cdfac83-2ded-4a53-81c1-0c73711c50fd",
   "metadata": {},
   "source": [
    "# (b) DataFrame"
   ]
  },
  {
   "cell_type": "code",
   "execution_count": 188,
   "id": "8f8ff5d3-8d10-4d64-91be-7e83458e2824",
   "metadata": {},
   "outputs": [
    {
     "data": {
      "text/plain": [
       "{'Emp_id': [1, 2, 3, 4, 5],\n",
       " 'Emp_Name': ['Sam', 'Raj', 'Bham', 'Neetu', 'Manan'],\n",
       " 'Emp_Department': ['It', 'Hr', 'Finance', 'Jr. Dev.', 'Sen. Dev.'],\n",
       " 'Emp_Salary': [20000, 30000, 40000, 50000, 60000]}"
      ]
     },
     "execution_count": 188,
     "metadata": {},
     "output_type": "execute_result"
    }
   ],
   "source": [
    "a={\n",
    "    \"Emp_id\":[1,2,3,4,5],\n",
    "    \"Emp_Name\":['Sam','Raj','Bham','Neetu','Manan'],\n",
    "    \"Emp_Department\":['It','Hr','Finance','Jr. Dev.','Sen. Dev.'],\n",
    "    \"Emp_Salary\":[20000,30000,40000,50000,60000]\n",
    "}\n",
    "a"
   ]
  },
  {
   "cell_type": "code",
   "execution_count": 190,
   "id": "0993ba8a-efa3-4e77-938c-b5711f14dc2f",
   "metadata": {},
   "outputs": [
    {
     "data": {
      "text/html": [
       "<div>\n",
       "<style scoped>\n",
       "    .dataframe tbody tr th:only-of-type {\n",
       "        vertical-align: middle;\n",
       "    }\n",
       "\n",
       "    .dataframe tbody tr th {\n",
       "        vertical-align: top;\n",
       "    }\n",
       "\n",
       "    .dataframe thead th {\n",
       "        text-align: right;\n",
       "    }\n",
       "</style>\n",
       "<table border=\"1\" class=\"dataframe\">\n",
       "  <thead>\n",
       "    <tr style=\"text-align: right;\">\n",
       "      <th></th>\n",
       "      <th>Emp_id</th>\n",
       "      <th>Emp_Name</th>\n",
       "      <th>Emp_Department</th>\n",
       "      <th>Emp_Salary</th>\n",
       "    </tr>\n",
       "  </thead>\n",
       "  <tbody>\n",
       "    <tr>\n",
       "      <th>0</th>\n",
       "      <td>1</td>\n",
       "      <td>Sam</td>\n",
       "      <td>It</td>\n",
       "      <td>20000</td>\n",
       "    </tr>\n",
       "    <tr>\n",
       "      <th>1</th>\n",
       "      <td>2</td>\n",
       "      <td>Raj</td>\n",
       "      <td>Hr</td>\n",
       "      <td>30000</td>\n",
       "    </tr>\n",
       "    <tr>\n",
       "      <th>2</th>\n",
       "      <td>3</td>\n",
       "      <td>Bham</td>\n",
       "      <td>Finance</td>\n",
       "      <td>40000</td>\n",
       "    </tr>\n",
       "    <tr>\n",
       "      <th>3</th>\n",
       "      <td>4</td>\n",
       "      <td>Neetu</td>\n",
       "      <td>Jr. Dev.</td>\n",
       "      <td>50000</td>\n",
       "    </tr>\n",
       "    <tr>\n",
       "      <th>4</th>\n",
       "      <td>5</td>\n",
       "      <td>Manan</td>\n",
       "      <td>Sen. Dev.</td>\n",
       "      <td>60000</td>\n",
       "    </tr>\n",
       "  </tbody>\n",
       "</table>\n",
       "</div>"
      ],
      "text/plain": [
       "   Emp_id Emp_Name Emp_Department  Emp_Salary\n",
       "0       1      Sam             It       20000\n",
       "1       2      Raj             Hr       30000\n",
       "2       3     Bham        Finance       40000\n",
       "3       4    Neetu       Jr. Dev.       50000\n",
       "4       5    Manan      Sen. Dev.       60000"
      ]
     },
     "execution_count": 190,
     "metadata": {},
     "output_type": "execute_result"
    }
   ],
   "source": [
    "df=pd.DataFrame(a)\n",
    "df"
   ]
  },
  {
   "cell_type": "code",
   "execution_count": 194,
   "id": "2e2b47f5-a82f-45a2-bb39-1a1eb13861c7",
   "metadata": {},
   "outputs": [],
   "source": [
    "df.to_csv(\"C:\\\\Users\\\\deves\\\\Desktop\\\\New folder\\\\emp_info.csv\",index=False)"
   ]
  },
  {
   "cell_type": "code",
   "execution_count": null,
   "id": "d188169b-743c-4568-9cee-832de8c19cc9",
   "metadata": {},
   "outputs": [],
   "source": []
  }
 ],
 "metadata": {
  "kernelspec": {
   "display_name": "Python [conda env:base] *",
   "language": "python",
   "name": "conda-base-py"
  },
  "language_info": {
   "codemirror_mode": {
    "name": "ipython",
    "version": 3
   },
   "file_extension": ".py",
   "mimetype": "text/x-python",
   "name": "python",
   "nbconvert_exporter": "python",
   "pygments_lexer": "ipython3",
   "version": "3.12.7"
  }
 },
 "nbformat": 4,
 "nbformat_minor": 5
}

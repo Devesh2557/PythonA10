{
  "nbformat": 4,
  "nbformat_minor": 0,
  "metadata": {
    "colab": {
      "provenance": [],
      "authorship_tag": "ABX9TyNkBbY8OQQnEKbTdQDPDxzR"
    },
    "kernelspec": {
      "name": "python3",
      "display_name": "Python 3"
    },
    "language_info": {
      "name": "python"
    }
  },
  "cells": [
    {
      "cell_type": "markdown",
      "source": [
        "# Tuple in Python"
      ],
      "metadata": {
        "id": "cTQEpCtP75F9"
      }
    },
    {
      "cell_type": "code",
      "execution_count": 7,
      "metadata": {
        "id": "aP1ihklc3RMr"
      },
      "outputs": [],
      "source": [
        "# (1).  Identification=()\n",
        "# (2).  Immutable data type ----------> We cannot change or update the value at run time.\n",
        "# (3).  This is a container in which we can store diff-diff type of elements.\n",
        "# (4).  Indexing sort start from 0 and length start from 1;"
      ]
    },
    {
      "cell_type": "code",
      "source": [
        "a=('sam',45,'raj,78.48')\n",
        "type(a)"
      ],
      "metadata": {
        "colab": {
          "base_uri": "https://localhost:8080/"
        },
        "id": "6HIrxRJU5083",
        "outputId": "92e421eb-b98a-4e60-8917-b28b16cdcad1"
      },
      "execution_count": 2,
      "outputs": [
        {
          "output_type": "execute_result",
          "data": {
            "text/plain": [
              "tuple"
            ]
          },
          "metadata": {},
          "execution_count": 2
        }
      ]
    },
    {
      "cell_type": "code",
      "source": [
        "# indecing and slicing\n",
        "print(a[0])\n",
        "print(a[1])\n",
        "print(a[2])\n",
        "print(\"------\")\n",
        "print(a[-1])   ### Backward Indexing\n",
        "print(a[-2])\n",
        "print(a[-3])"
      ],
      "metadata": {
        "colab": {
          "base_uri": "https://localhost:8080/"
        },
        "id": "nPUGRfmf_-wB",
        "outputId": "5d4218b4-d193-4b51-bd96-35bf1d9b95d9"
      },
      "execution_count": 3,
      "outputs": [
        {
          "output_type": "stream",
          "name": "stdout",
          "text": [
            "sam\n",
            "45\n",
            "raj,78.48\n",
            "------\n",
            "raj,78.48\n",
            "45\n",
            "sam\n"
          ]
        }
      ]
    },
    {
      "cell_type": "code",
      "source": [
        "print(a[1:3])"
      ],
      "metadata": {
        "colab": {
          "base_uri": "https://localhost:8080/"
        },
        "id": "NCU8aaw4AaZe",
        "outputId": "007c4ccf-d5e7-4cb9-beb9-cefc6e797f7f"
      },
      "execution_count": 4,
      "outputs": [
        {
          "output_type": "stream",
          "name": "stdout",
          "text": [
            "(45, 'raj,78.48')\n"
          ]
        }
      ]
    },
    {
      "cell_type": "code",
      "source": [
        "a=56\n",
        "print(type(a))\n",
        "a=56,\n",
        "print(type(a))"
      ],
      "metadata": {
        "colab": {
          "base_uri": "https://localhost:8080/"
        },
        "id": "Ijqu_U7yAgL9",
        "outputId": "e3688ba3-d979-4bb0-87b9-c0185239905d"
      },
      "execution_count": 5,
      "outputs": [
        {
          "output_type": "stream",
          "name": "stdout",
          "text": [
            "<class 'int'>\n",
            "<class 'tuple'>\n"
          ]
        }
      ]
    },
    {
      "cell_type": "code",
      "source": [
        "# Immutable datatype\n",
        "a=('sam',45,'raj',78.48)\n",
        "print(a)\n",
        "b=list(a)\n",
        "print(b)\n",
        "b[1]=9000\n",
        "print(b)\n",
        "c=tuple(b)\n",
        "print(c)"
      ],
      "metadata": {
        "colab": {
          "base_uri": "https://localhost:8080/"
        },
        "id": "qJqPIvrWAsjJ",
        "outputId": "7a550ba2-35f9-45c6-e984-ad527dcb18a1"
      },
      "execution_count": 6,
      "outputs": [
        {
          "output_type": "stream",
          "name": "stdout",
          "text": [
            "('sam', 45, 'raj', 78.48)\n",
            "['sam', 45, 'raj', 78.48]\n",
            "['sam', 9000, 'raj', 78.48]\n",
            "('sam', 9000, 'raj', 78.48)\n"
          ]
        }
      ]
    },
    {
      "cell_type": "code",
      "source": [
        "# Properties of tuples"
      ],
      "metadata": {
        "id": "lBhxOEJBBF3A"
      },
      "execution_count": 7,
      "outputs": []
    },
    {
      "cell_type": "code",
      "source": [
        "# (1). Concatination\n",
        "a=(1,2,3)\n",
        "b=(4,5,6)\n",
        "c=a+b\n",
        "print(c)"
      ],
      "metadata": {
        "colab": {
          "base_uri": "https://localhost:8080/"
        },
        "id": "k-Z3L-DYBLXm",
        "outputId": "bedd7f78-edf3-47d2-8abe-949c5565c9ba"
      },
      "execution_count": 8,
      "outputs": [
        {
          "output_type": "stream",
          "name": "stdout",
          "text": [
            "(1, 2, 3, 4, 5, 6)\n"
          ]
        }
      ]
    },
    {
      "cell_type": "code",
      "source": [
        "# (2). Replication\n",
        "a=(1,2,3)\n",
        "a*3"
      ],
      "metadata": {
        "colab": {
          "base_uri": "https://localhost:8080/"
        },
        "id": "9REs9YZEBV6R",
        "outputId": "31d03db1-797d-4f19-ecde-179645353195"
      },
      "execution_count": 9,
      "outputs": [
        {
          "output_type": "execute_result",
          "data": {
            "text/plain": [
              "(1, 2, 3, 1, 2, 3, 1, 2, 3)"
            ]
          },
          "metadata": {},
          "execution_count": 9
        }
      ]
    },
    {
      "cell_type": "markdown",
      "source": [
        "# Function of tuple\n"
      ],
      "metadata": {
        "id": "_rirX_9j2BKL"
      }
    },
    {
      "cell_type": "code",
      "source": [
        "# (1).  Len()-------> It will rerturn length of a tuple\n",
        "a=('sam',45,'raj',78.48)\n",
        "len(a)"
      ],
      "metadata": {
        "colab": {
          "base_uri": "https://localhost:8080/"
        },
        "id": "LqEhbYJhBih3",
        "outputId": "5bf6398d-417a-4ad8-dd8b-5a8c3030f640"
      },
      "execution_count": 11,
      "outputs": [
        {
          "output_type": "execute_result",
          "data": {
            "text/plain": [
              "4"
            ]
          },
          "metadata": {},
          "execution_count": 11
        }
      ]
    },
    {
      "cell_type": "code",
      "source": [
        "# (2).  Index()--------->  It will return indexing of an element.\n",
        "a=('sam',45,'raj',78.48)\n",
        "a.index(45)"
      ],
      "metadata": {
        "colab": {
          "base_uri": "https://localhost:8080/"
        },
        "id": "DG5Y6uJGB2F5",
        "outputId": "f814cf86-9482-4a59-9387-a0ab16ee6922"
      },
      "execution_count": 12,
      "outputs": [
        {
          "output_type": "execute_result",
          "data": {
            "text/plain": [
              "1"
            ]
          },
          "metadata": {},
          "execution_count": 12
        }
      ]
    },
    {
      "cell_type": "code",
      "source": [
        "# (3).  Count()----------> It will return frequency of element\n",
        "a=('sam',45,'raj',78.48)\n",
        "a.count(45)"
      ],
      "metadata": {
        "colab": {
          "base_uri": "https://localhost:8080/"
        },
        "id": "BqUs1kE1CCo5",
        "outputId": "12d0b841-3777-49f6-f4d9-2e9ce8eec9d8"
      },
      "execution_count": 13,
      "outputs": [
        {
          "output_type": "execute_result",
          "data": {
            "text/plain": [
              "1"
            ]
          },
          "metadata": {},
          "execution_count": 13
        }
      ]
    },
    {
      "cell_type": "code",
      "source": [
        "# (4).  Min()--> It will return minimum value of a table.\n",
        "a=(1,2,3)\n",
        "min(a)"
      ],
      "metadata": {
        "colab": {
          "base_uri": "https://localhost:8080/"
        },
        "id": "wilzSEZwCPAn",
        "outputId": "d761c0cd-00a7-4398-f58c-c3780ccb1b50"
      },
      "execution_count": 17,
      "outputs": [
        {
          "output_type": "execute_result",
          "data": {
            "text/plain": [
              "1"
            ]
          },
          "metadata": {},
          "execution_count": 17
        }
      ]
    },
    {
      "cell_type": "code",
      "source": [
        "# (5).  Max()-----> It will return maximum value of a table.\n",
        "a=(1,2,3)\n",
        "max(a)"
      ],
      "metadata": {
        "colab": {
          "base_uri": "https://localhost:8080/"
        },
        "id": "oq4SjUNx1Qd8",
        "outputId": "e29eb38f-0d55-4d27-cfc1-04aa9e803219"
      },
      "execution_count": 19,
      "outputs": [
        {
          "output_type": "execute_result",
          "data": {
            "text/plain": [
              "3"
            ]
          },
          "metadata": {},
          "execution_count": 19
        }
      ]
    },
    {
      "cell_type": "markdown",
      "source": [
        "# Q.1 How can we create a user define tuple"
      ],
      "metadata": {
        "id": "CzAlphYT12R_"
      }
    },
    {
      "cell_type": "code",
      "source": [
        "a=[]\n",
        "size=int(input(\"Enter Size:\"))\n",
        "for i in range(size):\n",
        "  val=input(\"Enter Value:\")\n",
        "  a.append(val)\n",
        "# print(a)\n",
        "b=tuple(a)\n",
        "print(b)"
      ],
      "metadata": {
        "colab": {
          "base_uri": "https://localhost:8080/"
        },
        "id": "7QZcp-xt17zo",
        "outputId": "b5a39633-2fca-4093-b190-ce83990e9109"
      },
      "execution_count": 26,
      "outputs": [
        {
          "output_type": "stream",
          "name": "stdout",
          "text": [
            "Enter Size:1\n",
            "Enter Value:raj\n",
            "('raj',)\n"
          ]
        }
      ]
    },
    {
      "cell_type": "markdown",
      "source": [
        "#Q.2.  Create a user define tuple in which user can add and delete an item."
      ],
      "metadata": {
        "id": "73vKJN643HLl"
      }
    },
    {
      "cell_type": "code",
      "source": [
        "a=[]\n",
        "size=int(input(\"Enter Size:\"))\n",
        "for i in range(size):\n",
        "  val=input(\"Enter Value:\")\n",
        "  a.append(val)\n",
        "# print(a)\n",
        "b=tuple(a)\n",
        "print(b)\n",
        "c=input(\"Which item you want to delete:\")\n",
        "d=list(b)\n",
        "# print(d)\n",
        "d.remove(c)\n",
        "# print(d)\n",
        "e=tuple(d)\n",
        "print(e)"
      ],
      "metadata": {
        "colab": {
          "base_uri": "https://localhost:8080/"
        },
        "id": "nmeg3my63Z-d",
        "outputId": "a6bb7d14-b220-4b44-bdef-0656182b082e"
      },
      "execution_count": 33,
      "outputs": [
        {
          "output_type": "stream",
          "name": "stdout",
          "text": [
            "Enter Size:3\n",
            "Enter Value:sam\n",
            "Enter Value:v\n",
            "Enter Value:m\n",
            "('sam', 'v', 'm')\n",
            "Which item you want to delete:m\n",
            "('sam', 'v')\n"
          ]
        }
      ]
    },
    {
      "cell_type": "code",
      "source": [
        "a=['sam','manoj','vivek','antima']\n",
        "print(a)\n",
        "size=int(input(\"Enter the elements you want to delete:- \"))\n",
        "for i in range(size):\n",
        "  val=input(\"Which item you want to delete:- \")\n",
        "  a.remove(val)\n",
        "print(a)"
      ],
      "metadata": {
        "colab": {
          "base_uri": "https://localhost:8080/"
        },
        "id": "lgmHzzcB31Kn",
        "outputId": "64b69a34-9347-4e8a-d11b-d29513208e09"
      },
      "execution_count": 43,
      "outputs": [
        {
          "output_type": "stream",
          "name": "stdout",
          "text": [
            "['sam', 'manoj', 'vivek', 'antima']\n",
            "Enter the elements you want to delete1\n",
            "Which item you want to deletesam\n",
            "['manoj', 'vivek', 'antima']\n"
          ]
        }
      ]
    },
    {
      "cell_type": "code",
      "source": [
        "b=('sam','manoj','vivek','antima')\n",
        "print(b)\n",
        "a=['sam','manoj','vivek','antima']\n",
        "# print(a)\n",
        "size=int(input(\"Enter the elements you want to delete: \"))\n",
        "for i in range(size):\n",
        "  val=input(\"Which item you want to delete:-\")\n",
        "  a.remove(val)\n",
        "# print(a)\n",
        "b=tuple(a)\n",
        "print(b)"
      ],
      "metadata": {
        "colab": {
          "base_uri": "https://localhost:8080/"
        },
        "id": "zIjjB_US5YOM",
        "outputId": "a44b1065-cf10-42fe-e8bd-958067bc1138"
      },
      "execution_count": 42,
      "outputs": [
        {
          "output_type": "stream",
          "name": "stdout",
          "text": [
            "('sam', 'manoj', 'vivek', 'antima')\n",
            "Enter the elements you want to delete: 1\n",
            "Which item you want to delete:-sam\n",
            "('manoj', 'vivek', 'antima')\n"
          ]
        }
      ]
    },
    {
      "cell_type": "code",
      "source": [
        "b=('sam','manoj','vivek','antima')\n",
        "print(b)\n",
        "a=['sam','manoj','vivek','antima']\n",
        "size=int(input(\"Enter the elements you want to add: \"))\n",
        "for i in range(size):\n",
        "  val=input(\"Which item you want to add: \")\n",
        "  a.append(val)\n",
        "c=tuple(a)\n",
        "print(c)"
      ],
      "metadata": {
        "colab": {
          "base_uri": "https://localhost:8080/"
        },
        "id": "qDFZW2Dg6q30",
        "outputId": "9187384e-d713-41d9-e5c9-8326e9092dd0"
      },
      "execution_count": 47,
      "outputs": [
        {
          "output_type": "stream",
          "name": "stdout",
          "text": [
            "('sam', 'manoj', 'vivek', 'antima')\n",
            "Enter the elements you want to add: 2\n",
            "Which item you want to add: suresh\n",
            "Which item you want to add: mahesh\n",
            "('sam', 'manoj', 'vivek', 'antima', 'suresh', 'mahesh')\n"
          ]
        }
      ]
    },
    {
      "cell_type": "code",
      "source": [],
      "metadata": {
        "id": "Cj8ssmjC7fgg"
      },
      "execution_count": null,
      "outputs": []
    }
  ]
}
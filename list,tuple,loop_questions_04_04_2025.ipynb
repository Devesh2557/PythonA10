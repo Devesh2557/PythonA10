{
  "nbformat": 4,
  "nbformat_minor": 0,
  "metadata": {
    "colab": {
      "provenance": [],
      "authorship_tag": "ABX9TyMh/GJ01NfOTixbm8JTnDQj"
    },
    "kernelspec": {
      "name": "python3",
      "display_name": "Python 3"
    },
    "language_info": {
      "name": "python"
    }
  },
  "cells": [
    {
      "cell_type": "code",
      "execution_count": 3,
      "metadata": {
        "id": "BYUIlMxtTfvv"
      },
      "outputs": [],
      "source": [
        "# 2. Filtering out add numbers\n",
        "# Problem: you have a list of number, and you need to create a new list that only contains even numbers.\n",
        "\n",
        "# input example:\n",
        "# numbers=[10,25,36,47,52,63,78]\n",
        "\n",
        "# output example:\n",
        "# [10,36,52,78]"
      ]
    },
    {
      "cell_type": "code",
      "source": [
        "numbers=[10,25,36,47,52,63,78]\n",
        "even_numbers=[]\n",
        "odd_numbers=[]\n",
        "for i in numbers:\n",
        "  if i%2==0:\n",
        "    even_numbers.append(i)\n",
        "  else:\n",
        "    odd_numbers.append(i)\n",
        "\n",
        "print(\"Even Numbers:\",even_numbers)\n",
        "print(\"Odd Numbers:\",odd_numbers)\n"
      ],
      "metadata": {
        "colab": {
          "base_uri": "https://localhost:8080/"
        },
        "id": "xXNcpCFnUgKU",
        "outputId": "0b77bdd0-cd75-4897-dfa3-df832e040fdb"
      },
      "execution_count": 4,
      "outputs": [
        {
          "output_type": "stream",
          "name": "stdout",
          "text": [
            "Even Numbers: [10, 36, 52, 78]\n",
            "Odd Numbers: [25, 47, 63]\n"
          ]
        }
      ]
    },
    {
      "cell_type": "code",
      "source": [
        "# Problem: You have a list of product prices, and you need to categories each product based on its price:\n",
        "\n",
        "# price>1000->\"Expensive\"\n",
        "\n",
        "# price>500and<=1000-> \"Moderate\"\n",
        "\n",
        "# price<500-> \"cheap\"\n",
        "\n",
        "# input example:\n",
        "# prices: [1200,450,300,950,2000]\n",
        "\n",
        "# output example:\n",
        "# [\"expansive\",\"moderate\",\"cheap\",\"cheap\",\"moderate\",\"expansive\"]"
      ],
      "metadata": {
        "id": "syRd7kHNVBfl"
      },
      "execution_count": 5,
      "outputs": []
    },
    {
      "cell_type": "code",
      "source": [
        "prices=[1200,800,450,300,950,2000]\n",
        "categories=[]\n",
        "\n",
        "for price in prices:\n",
        "  if price>1000:\n",
        "    categories.append(\"Expansive\")\n",
        "  elif 500<=price<=1000:\n",
        "    categories.append(\"Moderate\")\n",
        "  else:\n",
        "    categories.append(\"Cheap\")\n",
        "print(categories)"
      ],
      "metadata": {
        "colab": {
          "base_uri": "https://localhost:8080/"
        },
        "id": "4Y1HbWgNV-XF",
        "outputId": "99050ee4-7de2-4f0e-ae50-e8a2761187ce"
      },
      "execution_count": 9,
      "outputs": [
        {
          "output_type": "stream",
          "name": "stdout",
          "text": [
            "['Expansive', 'Moderate', 'Cheap', 'Cheap', 'Moderate', 'Expansive']\n"
          ]
        }
      ]
    },
    {
      "cell_type": "code",
      "source": [
        "# 4. Counting the number of vowels in a sentence\n",
        "# problem: Given a sentence, count how many vowels(a,e,i,o,u) are present in the sentence.\n",
        "\n",
        "# imput example:\n",
        "# sentence=\"Hello,how are you\"\n",
        "\n",
        "# output example:\n",
        "# total vowels: 7"
      ],
      "metadata": {
        "id": "DVdJqYWiWjCK"
      },
      "execution_count": 10,
      "outputs": []
    },
    {
      "cell_type": "code",
      "source": [
        "sentence=\"Hello,how are you?\"\n",
        "# sentence=str(input(\"Enter Sentence\"))\n",
        "vowels=\"aeiouAEIOU\"\n",
        "count=0\n",
        "\n",
        "for char in sentence:\n",
        "  if char in vowels:\n",
        "    count+=1\n",
        "\n",
        "print(\"Total vowels:\",count)"
      ],
      "metadata": {
        "colab": {
          "base_uri": "https://localhost:8080/"
        },
        "id": "V_N_3DtZX4XB",
        "outputId": "286111b8-8194-4bd3-a37c-506a93a26b66"
      },
      "execution_count": 14,
      "outputs": [
        {
          "output_type": "stream",
          "name": "stdout",
          "text": [
            "Total vowels: 7\n"
          ]
        }
      ]
    },
    {
      "cell_type": "code",
      "source": [
        "# 5. identifying passengers eligable for discount\n",
        "\n"
      ],
      "metadata": {
        "id": "HV6ne6CJYRQq"
      },
      "execution_count": 15,
      "outputs": []
    },
    {
      "cell_type": "code",
      "source": [
        "# 6. checking palindrome words in a list\n",
        "# problem\n",
        "\n",
        "# you have a list of words and you need to check\n",
        "# which words are palindrome(words that read the same forward and backward).and\n",
        "# input:\n",
        "# words=[\"madam\",\"hello\",\"level\",\"python\",\"racecar\"]\n",
        "\n",
        "# output:\n",
        "# [true,false,true,false,true]"
      ],
      "metadata": {
        "id": "XnaZxHcyaUoM"
      },
      "execution_count": 16,
      "outputs": []
    },
    {
      "cell_type": "code",
      "source": [
        "words=[\"madam\",\"hello\",\"level\",\"python\",\"racecar\"]\n",
        "palindrome_check=[]\n",
        "\n",
        "for word in words:\n",
        "  if word == words[::-1]:\n",
        "    palindrome_check.append(True)\n",
        "  else:\n",
        "    palindrome_check.append(False)\n",
        "\n",
        "print(\"Palindrome Check\",palindrome_check)"
      ],
      "metadata": {
        "colab": {
          "base_uri": "https://localhost:8080/"
        },
        "id": "OUdBLI-vbTOp",
        "outputId": "3d4c9fc0-4b6f-44e8-a32e-eb0694d1203d"
      },
      "execution_count": 18,
      "outputs": [
        {
          "output_type": "stream",
          "name": "stdout",
          "text": [
            "Palindrome Check [False, False, False, False, False]\n"
          ]
        }
      ]
    },
    {
      "cell_type": "code",
      "source": [
        "# 7.categorizing tempratures\n",
        "# problem:\n",
        "# You have a list of temperatures recorded in a week, and you need to categories them as:\n",
        "\n",
        "# \"cold\"->tempratures<15c\n",
        "# \"warm\"->tempratures between 15c and 30c\n",
        "# \"hot\"->temprature>30c\n",
        "\n",
        "# input:\n",
        "# temperatures=[10,22,35,28,15,5,40]\n"
      ],
      "metadata": {
        "id": "TMe_yJLIbwi7"
      },
      "execution_count": 19,
      "outputs": []
    },
    {
      "cell_type": "code",
      "source": [
        "temperatures = [10, 22, 35, 28, 15, 5, 40]\n",
        "temp_check=[]\n",
        "\n",
        "for temp in temperatures:\n",
        "    if temp < 15:\n",
        "       temp_check.append(True)\n",
        "    elif 15 <= temp <= 30:\n",
        "        temp_check.append(True)\n",
        "    else:\n",
        "        temp_check.append(False)\n",
        "\n",
        "print(temp_check)"
      ],
      "metadata": {
        "colab": {
          "base_uri": "https://localhost:8080/"
        },
        "id": "30yjQKfndzRS",
        "outputId": "912d3c9a-017b-4fd8-9202-551ab282cd27"
      },
      "execution_count": 21,
      "outputs": [
        {
          "output_type": "stream",
          "name": "stdout",
          "text": [
            "[True, True, False, True, True, True, False]\n"
          ]
        }
      ]
    },
    {
      "cell_type": "code",
      "source": [],
      "metadata": {
        "id": "4gGyEM0od0NU"
      },
      "execution_count": null,
      "outputs": []
    }
  ]
}
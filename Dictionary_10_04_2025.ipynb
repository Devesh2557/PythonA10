{
  "nbformat": 4,
  "nbformat_minor": 0,
  "metadata": {
    "colab": {
      "provenance": [],
      "authorship_tag": "ABX9TyMCAXrFei4ujIzTVDxOwWtC"
    },
    "kernelspec": {
      "name": "python3",
      "display_name": "Python 3"
    },
    "language_info": {
      "name": "python"
    }
  },
  "cells": [
    {
      "cell_type": "markdown",
      "source": [
        "# Dictionary in Python"
      ],
      "metadata": {
        "id": "VoUr3tNbQgZG"
      }
    },
    {
      "cell_type": "code",
      "source": [
        "# (1). Identification = {}\n",
        "# (2). Key:value pair and element sperate by comma.\n",
        "# (3). Idexing start from 0 length start from 1."
      ],
      "metadata": {
        "id": "Sd45zP7vQhRm"
      },
      "execution_count": 1,
      "outputs": []
    },
    {
      "cell_type": "code",
      "source": [
        "a={'Brand':'kia','Model':'celtos','Year':2024}\n",
        "print(a)"
      ],
      "metadata": {
        "colab": {
          "base_uri": "https://localhost:8080/"
        },
        "id": "dkK-y4ijQ475",
        "outputId": "26ddbbd0-d5d0-46a4-d314-89f1d50eee28"
      },
      "execution_count": 2,
      "outputs": [
        {
          "output_type": "stream",
          "name": "stdout",
          "text": [
            "{'Brand': 'kia', 'Model': 'celtos', 'Year': 2024}\n"
          ]
        }
      ]
    },
    {
      "cell_type": "code",
      "source": [
        "type(a)"
      ],
      "metadata": {
        "colab": {
          "base_uri": "https://localhost:8080/"
        },
        "id": "C36cH31ORFWt",
        "outputId": "444a42d4-deb6-4977-bf31-70cce2af902a"
      },
      "execution_count": 3,
      "outputs": [
        {
          "output_type": "execute_result",
          "data": {
            "text/plain": [
              "dict"
            ]
          },
          "metadata": {},
          "execution_count": 3
        }
      ]
    },
    {
      "cell_type": "code",
      "source": [
        "### Access the elements"
      ],
      "metadata": {
        "id": "38N8zhkHRHPb"
      },
      "execution_count": 4,
      "outputs": []
    },
    {
      "cell_type": "code",
      "source": [
        "print(a['Brand'])\n",
        "print(a['Model'])\n",
        "print(a['Year'])"
      ],
      "metadata": {
        "colab": {
          "base_uri": "https://localhost:8080/"
        },
        "id": "rWb5kEUHRNN0",
        "outputId": "bb0d00ee-d315-41b9-ba2b-e0b04a82d3ba"
      },
      "execution_count": 5,
      "outputs": [
        {
          "output_type": "stream",
          "name": "stdout",
          "text": [
            "kia\n",
            "celtos\n",
            "2024\n"
          ]
        }
      ]
    },
    {
      "cell_type": "code",
      "source": [
        "a={'Brand':'kia','Model':'celtos','Year':2024}\n",
        "print(a)"
      ],
      "metadata": {
        "colab": {
          "base_uri": "https://localhost:8080/"
        },
        "id": "0p3yndlcRYE8",
        "outputId": "dce46732-c26c-46c4-ffb3-2eed15000b78"
      },
      "execution_count": 16,
      "outputs": [
        {
          "output_type": "stream",
          "name": "stdout",
          "text": [
            "{'Brand': 'kia', 'Model': 'celtos', 'Year': 2024}\n"
          ]
        }
      ]
    },
    {
      "cell_type": "code",
      "source": [
        "a['Year']"
      ],
      "metadata": {
        "colab": {
          "base_uri": "https://localhost:8080/"
        },
        "id": "Yz_1gInARot8",
        "outputId": "bb2a0c99-8bb2-4c3e-c6c4-6c55b61317ee"
      },
      "execution_count": 7,
      "outputs": [
        {
          "output_type": "execute_result",
          "data": {
            "text/plain": [
              "2024"
            ]
          },
          "metadata": {},
          "execution_count": 7
        }
      ]
    },
    {
      "cell_type": "code",
      "source": [
        "a"
      ],
      "metadata": {
        "colab": {
          "base_uri": "https://localhost:8080/"
        },
        "id": "eHdPPi1ERqAG",
        "outputId": "c64a636d-7b9c-427e-e470-187048882ba9"
      },
      "execution_count": 8,
      "outputs": [
        {
          "output_type": "execute_result",
          "data": {
            "text/plain": [
              "{'Brand': 'kia', 'Model': 'celtos', 'Year': 2024}"
            ]
          },
          "metadata": {},
          "execution_count": 8
        }
      ]
    },
    {
      "cell_type": "code",
      "source": [
        "#### Loop in dictionary"
      ],
      "metadata": {
        "id": "NgP1-1XBRrOr"
      },
      "execution_count": 9,
      "outputs": []
    },
    {
      "cell_type": "code",
      "source": [
        "for i in a:\n",
        "  print(i)"
      ],
      "metadata": {
        "colab": {
          "base_uri": "https://localhost:8080/"
        },
        "id": "MIEa08WQSCU8",
        "outputId": "f337a058-9d08-4172-9b4f-0bede03f271f"
      },
      "execution_count": 10,
      "outputs": [
        {
          "output_type": "stream",
          "name": "stdout",
          "text": [
            "Brand\n",
            "Model\n",
            "Year\n"
          ]
        }
      ]
    },
    {
      "cell_type": "code",
      "source": [
        "for i in a.keys():\n",
        "  print(i)"
      ],
      "metadata": {
        "colab": {
          "base_uri": "https://localhost:8080/"
        },
        "id": "IyD9daOlSEhu",
        "outputId": "4f8e1bfc-ceb4-4ec3-d069-4f38fd4f9b97"
      },
      "execution_count": 11,
      "outputs": [
        {
          "output_type": "stream",
          "name": "stdout",
          "text": [
            "Brand\n",
            "Model\n",
            "Year\n"
          ]
        }
      ]
    },
    {
      "cell_type": "code",
      "source": [
        "for i in a:    #### Extract all values\n",
        "   print(a[i])"
      ],
      "metadata": {
        "colab": {
          "base_uri": "https://localhost:8080/"
        },
        "id": "Ix8e-olJSI67",
        "outputId": "0807a498-cde5-447d-a768-a20df38d6ab8"
      },
      "execution_count": 12,
      "outputs": [
        {
          "output_type": "stream",
          "name": "stdout",
          "text": [
            "kia\n",
            "celtos\n",
            "2024\n"
          ]
        }
      ]
    },
    {
      "cell_type": "code",
      "source": [
        "for i in a.values():\n",
        "  print(i)"
      ],
      "metadata": {
        "colab": {
          "base_uri": "https://localhost:8080/"
        },
        "id": "-wNoQq8-STW6",
        "outputId": "8babfdd8-7a39-408d-fbd8-165dc7fd9c25"
      },
      "execution_count": 13,
      "outputs": [
        {
          "output_type": "stream",
          "name": "stdout",
          "text": [
            "kia\n",
            "celtos\n",
            "2024\n"
          ]
        }
      ]
    },
    {
      "cell_type": "code",
      "source": [
        "for x,y in a.items():\n",
        "  print(x,y)"
      ],
      "metadata": {
        "colab": {
          "base_uri": "https://localhost:8080/"
        },
        "id": "Ty4uOOWbSX1N",
        "outputId": "945592be-358f-4a06-dcf8-bab0f169a7b4"
      },
      "execution_count": 14,
      "outputs": [
        {
          "output_type": "stream",
          "name": "stdout",
          "text": [
            "Brand kia\n",
            "Model celtos\n",
            "Year 2024\n"
          ]
        }
      ]
    },
    {
      "cell_type": "code",
      "source": [
        "#### key value pair"
      ],
      "metadata": {
        "id": "syw2DtO9SeEt"
      },
      "execution_count": 15,
      "outputs": []
    },
    {
      "cell_type": "code",
      "source": [
        "a={'Brand':'kia','Model':'celtos','Year':2024}\n",
        "print(a)"
      ],
      "metadata": {
        "colab": {
          "base_uri": "https://localhost:8080/"
        },
        "id": "fug5MTw_SiaG",
        "outputId": "81aa771d-4e0c-4f3b-94f2-5e92b0759101"
      },
      "execution_count": 17,
      "outputs": [
        {
          "output_type": "stream",
          "name": "stdout",
          "text": [
            "{'Brand': 'kia', 'Model': 'celtos', 'Year': 2024}\n"
          ]
        }
      ]
    },
    {
      "cell_type": "code",
      "source": [
        "a['Color']='Black'"
      ],
      "metadata": {
        "id": "etPRhjTXSk0E"
      },
      "execution_count": 18,
      "outputs": []
    },
    {
      "cell_type": "code",
      "source": [
        "a"
      ],
      "metadata": {
        "colab": {
          "base_uri": "https://localhost:8080/"
        },
        "id": "0mJwQOeDSouS",
        "outputId": "75792e23-e3fb-47ee-b1df-b26d54538c05"
      },
      "execution_count": 19,
      "outputs": [
        {
          "output_type": "execute_result",
          "data": {
            "text/plain": [
              "{'Brand': 'kia', 'Model': 'celtos', 'Year': 2024, 'Color': 'Black'}"
            ]
          },
          "metadata": {},
          "execution_count": 19
        }
      ]
    },
    {
      "cell_type": "code",
      "source": [
        "a['Year']=2025\n",
        "a"
      ],
      "metadata": {
        "colab": {
          "base_uri": "https://localhost:8080/"
        },
        "id": "UeysrcbBSpB0",
        "outputId": "f422a2b4-5e25-4e1d-c826-13c169cd7df4"
      },
      "execution_count": 20,
      "outputs": [
        {
          "output_type": "execute_result",
          "data": {
            "text/plain": [
              "{'Brand': 'kia', 'Model': 'celtos', 'Year': 2025, 'Color': 'Black'}"
            ]
          },
          "metadata": {},
          "execution_count": 20
        }
      ]
    },
    {
      "cell_type": "markdown",
      "source": [
        "# Function in Dictionary\n"
      ],
      "metadata": {
        "id": "93hB5RUgS0Ll"
      }
    },
    {
      "cell_type": "code",
      "source": [
        "a={'Brand':'kia','Model':'celtos','Year':2024}\n",
        "print(a)"
      ],
      "metadata": {
        "colab": {
          "base_uri": "https://localhost:8080/"
        },
        "id": "nAUVZhXtS40j",
        "outputId": "c17fa7d5-d90b-403f-ad2e-5279fdb126a6"
      },
      "execution_count": 21,
      "outputs": [
        {
          "output_type": "stream",
          "name": "stdout",
          "text": [
            "{'Brand': 'kia', 'Model': 'celtos', 'Year': 2024}\n"
          ]
        }
      ]
    },
    {
      "cell_type": "code",
      "source": [
        "# (1). Len()\n",
        "len(a)"
      ],
      "metadata": {
        "colab": {
          "base_uri": "https://localhost:8080/"
        },
        "id": "uuf0u6tLS7X4",
        "outputId": "d25ae487-5e22-4d4d-b2d6-3b4e85a661f7"
      },
      "execution_count": 22,
      "outputs": [
        {
          "output_type": "execute_result",
          "data": {
            "text/plain": [
              "3"
            ]
          },
          "metadata": {},
          "execution_count": 22
        }
      ]
    },
    {
      "cell_type": "code",
      "source": [
        "# (2). POP"
      ],
      "metadata": {
        "id": "bejGrxEqS-sv"
      },
      "execution_count": 23,
      "outputs": []
    },
    {
      "cell_type": "code",
      "source": [
        "a={'Brand':'kia','Model':'celtos','Year':2024}\n",
        "print(a)\n",
        "a.pop('Model')\n",
        "print(a)"
      ],
      "metadata": {
        "colab": {
          "base_uri": "https://localhost:8080/"
        },
        "id": "x5QL7qjlTBcM",
        "outputId": "a8ce09c5-100d-4d22-d020-b789442a2fac"
      },
      "execution_count": 24,
      "outputs": [
        {
          "output_type": "stream",
          "name": "stdout",
          "text": [
            "{'Brand': 'kia', 'Model': 'celtos', 'Year': 2024}\n",
            "{'Brand': 'kia', 'Year': 2024}\n"
          ]
        }
      ]
    },
    {
      "cell_type": "code",
      "source": [
        "# (3), popitem()\n",
        "\n",
        "a={'Brand':'kia','Model':'celtos','Year':2024}\n",
        "print(a)\n",
        "a.popitem()\n",
        "print(a)\n",
        "a.popitem()\n",
        "print(a)\n",
        "a.popitem()\n",
        "print(a)"
      ],
      "metadata": {
        "colab": {
          "base_uri": "https://localhost:8080/"
        },
        "id": "49iHhjVXTHJx",
        "outputId": "be6fa77c-5e09-4b66-99cb-4f723620c627"
      },
      "execution_count": 26,
      "outputs": [
        {
          "output_type": "stream",
          "name": "stdout",
          "text": [
            "{'Brand': 'kia', 'Model': 'celtos', 'Year': 2024}\n",
            "{'Brand': 'kia', 'Model': 'celtos'}\n",
            "{'Brand': 'kia'}\n",
            "{}\n"
          ]
        }
      ]
    },
    {
      "cell_type": "code",
      "source": [
        "# (4). clear()\n",
        "\n",
        "a={'Brand':'kia','Model':'celtos','Year':2024}\n",
        "print(a)\n",
        "a.clear()\n",
        "print(a)"
      ],
      "metadata": {
        "colab": {
          "base_uri": "https://localhost:8080/"
        },
        "id": "LKPZW-wjTUO-",
        "outputId": "eb18c0aa-975a-4be8-c05a-b5a6d042500e"
      },
      "execution_count": 27,
      "outputs": [
        {
          "output_type": "stream",
          "name": "stdout",
          "text": [
            "{'Brand': 'kia', 'Model': 'celtos', 'Year': 2024}\n",
            "{}\n"
          ]
        }
      ]
    },
    {
      "cell_type": "code",
      "source": [
        "Raj={'jackets':500,'Jeans':1500,'Shoes':8000}\n",
        "print(Raj)\n",
        "a=[]\n",
        "for i in Raj.values():\n",
        "  a.append(i)\n",
        "# print(a)\n",
        "sum=0\n",
        "for i in range(len(a)):\n",
        "  sum=sum+a[i]\n",
        "print(\"Your total bill is :\",sum)\n",
        "\n",
        "b=[]\n",
        "total=0\n",
        "for i in Raj.keys():\n",
        "  b.append(i)\n",
        "print(\"Your item list is :\",b)"
      ],
      "metadata": {
        "colab": {
          "base_uri": "https://localhost:8080/"
        },
        "id": "dvYg1v7nTpX4",
        "outputId": "a4b88c8b-6d11-4053-9c74-0d55249c84b2"
      },
      "execution_count": 32,
      "outputs": [
        {
          "output_type": "stream",
          "name": "stdout",
          "text": [
            "{'jackets': 500, 'Jeans': 1500, 'Shoes': 8000}\n",
            "Your total bill is : 10000\n",
            "Your item list is : ['jackets', 'Jeans', 'Shoes']\n"
          ]
        }
      ]
    },
    {
      "cell_type": "code",
      "source": [
        "a={'Shirt':500,'Jeans':1000,'Shirt':1000,'Shirt':2000,'Shoes':5000}\n",
        "\n",
        "#### tell me how many time shirt repeat?\n",
        "#### Only shirt total bill?"
      ],
      "metadata": {
        "id": "WLDVRTtxUWCx"
      },
      "execution_count": null,
      "outputs": []
    }
  ]
}
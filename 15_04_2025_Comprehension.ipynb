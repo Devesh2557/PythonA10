{
  "nbformat": 4,
  "nbformat_minor": 0,
  "metadata": {
    "colab": {
      "provenance": [],
      "authorship_tag": "ABX9TyPd3eJF/jJ0qKwhie0etwt0"
    },
    "kernelspec": {
      "name": "python3",
      "display_name": "Python 3"
    },
    "language_info": {
      "name": "python"
    }
  },
  "cells": [
    {
      "cell_type": "code",
      "execution_count": null,
      "metadata": {
        "id": "hh_sK_3xlNUP"
      },
      "outputs": [],
      "source": []
    },
    {
      "cell_type": "markdown",
      "source": [
        "# 1.Create a list of squares"
      ],
      "metadata": {
        "id": "Ps_gTpb0qNR1"
      }
    },
    {
      "cell_type": "code",
      "source": [
        "squares=[x**2 for x in range(1,6)]\n",
        "print(squares)"
      ],
      "metadata": {
        "colab": {
          "base_uri": "https://localhost:8080/"
        },
        "id": "alhN1GUpqWvn",
        "outputId": "1fb3671e-d0d5-41bc-944b-1a8d304a2575"
      },
      "execution_count": 12,
      "outputs": [
        {
          "output_type": "stream",
          "name": "stdout",
          "text": [
            "[1, 4, 9, 16, 25]\n"
          ]
        }
      ]
    },
    {
      "cell_type": "markdown",
      "source": [
        "# 2.Filter even numbers"
      ],
      "metadata": {
        "id": "O_Q3g6w6qoDq"
      }
    },
    {
      "cell_type": "code",
      "source": [
        "evens=[x for x in range(10) if x%2==0]\n",
        "print(evens)"
      ],
      "metadata": {
        "colab": {
          "base_uri": "https://localhost:8080/"
        },
        "id": "Nw9xaRTNqrYS",
        "outputId": "403fae8b-428e-4b2e-dbf5-f28550f7e933"
      },
      "execution_count": 2,
      "outputs": [
        {
          "output_type": "stream",
          "name": "stdout",
          "text": [
            "[0, 2, 4, 6, 8]\n"
          ]
        }
      ]
    },
    {
      "cell_type": "markdown",
      "source": [
        "# 3. convert strings to uppercase"
      ],
      "metadata": {
        "id": "k1TLK-H7q4Zs"
      }
    },
    {
      "cell_type": "code",
      "source": [
        "names=[\"sam\",\"rohit\",\"ankit\"]\n",
        "upper_names=[name.upper() for name in names]\n",
        "print(upper_names)"
      ],
      "metadata": {
        "colab": {
          "base_uri": "https://localhost:8080/"
        },
        "id": "7nZ-iRaTq-TF",
        "outputId": "6e22c3fe-7fde-4010-d8f8-cac195fb342e"
      },
      "execution_count": 4,
      "outputs": [
        {
          "output_type": "stream",
          "name": "stdout",
          "text": [
            "['SAM', 'ROHIT', 'ANKIT']\n"
          ]
        }
      ]
    },
    {
      "cell_type": "markdown",
      "source": [
        "# 4.Flatten a nested list"
      ],
      "metadata": {
        "id": "tCz25lacrWAx"
      }
    },
    {
      "cell_type": "code",
      "source": [
        "matrix=[[1,2],[3,4],[5,6]]\n",
        "flattened=[num for sublist in matrix for num in sublist]\n",
        "print(flattened)"
      ],
      "metadata": {
        "colab": {
          "base_uri": "https://localhost:8080/"
        },
        "id": "ouoBNodcraFN",
        "outputId": "618315db-a171-4fc6-d743-1f0efbd0f122"
      },
      "execution_count": 6,
      "outputs": [
        {
          "output_type": "stream",
          "name": "stdout",
          "text": [
            "[1, 2, 3, 4, 5, 6]\n"
          ]
        }
      ]
    },
    {
      "cell_type": "markdown",
      "source": [
        "# 5. Generate a list of tuples"
      ],
      "metadata": {
        "id": "3cNbmrCpsE1N"
      }
    },
    {
      "cell_type": "code",
      "source": [
        "pairs=[(x,y) for x in range(3) for y in range(3)]\n",
        "print(pairs)"
      ],
      "metadata": {
        "colab": {
          "base_uri": "https://localhost:8080/"
        },
        "id": "r8oJHJY7sKmH",
        "outputId": "26ab5b63-d014-4d76-9fe9-548db3c3a937"
      },
      "execution_count": 7,
      "outputs": [
        {
          "output_type": "stream",
          "name": "stdout",
          "text": [
            "[(0, 0), (0, 1), (0, 2), (1, 0), (1, 1), (1, 2), (2, 0), (2, 1), (2, 2)]\n"
          ]
        }
      ]
    },
    {
      "cell_type": "markdown",
      "source": [
        "# Traditional way to list comprehension"
      ],
      "metadata": {
        "id": "hTlwX2r4s8aO"
      }
    },
    {
      "cell_type": "code",
      "source": [
        "square=[]                              ## Old Format(1)\n",
        "for x in range(1,6):\n",
        "  squares.append(x**2)\n",
        "print(squares)"
      ],
      "metadata": {
        "colab": {
          "base_uri": "https://localhost:8080/"
        },
        "id": "vVvnN-WptDhi",
        "outputId": "5acfb4f0-2bc3-4b4b-f638-aeb40a647c01"
      },
      "execution_count": 10,
      "outputs": [
        {
          "output_type": "stream",
          "name": "stdout",
          "text": [
            "[1, 4, 9, 16, 25, 1, 4, 9, 16, 25, 1, 4, 9, 16, 25, 1, 4, 9, 16, 25]\n"
          ]
        }
      ]
    },
    {
      "cell_type": "code",
      "source": [
        "# (2).\n",
        "evens=[]\n",
        "for x in range(10):\n",
        "  if x%2==0:\n",
        "    evens.append(x)\n",
        "print(evens)"
      ],
      "metadata": {
        "colab": {
          "base_uri": "https://localhost:8080/"
        },
        "id": "Tjc4hFPVtLxN",
        "outputId": "47a2e709-39cd-4942-c72c-fed64ef22fb8"
      },
      "execution_count": 11,
      "outputs": [
        {
          "output_type": "stream",
          "name": "stdout",
          "text": [
            "[0, 2, 4, 6, 8]\n"
          ]
        }
      ]
    },
    {
      "cell_type": "markdown",
      "source": [
        "# Dictionary Comprehension"
      ],
      "metadata": {
        "id": "wJmT6n5ytu1t"
      }
    },
    {
      "cell_type": "code",
      "source": [
        "# Dictionary comprehension\n",
        "\n",
        "# Dictionary comprehension in python offer a concise way to create\n",
        "# dictionaries from iterables.\n",
        "\n",
        "# Similar to list compreshions, they allow you to\n",
        "# construct dictionaries in a single line, with an optinal condition for filtering.\n",
        "\n",
        "# Syntax:\n",
        "# {key_expression: value_expression for item in iterable if condition}"
      ],
      "metadata": {
        "id": "auWKMBOot0Xn"
      },
      "execution_count": null,
      "outputs": []
    },
    {
      "cell_type": "markdown",
      "source": [
        "# 1. Create a dictionary of squares\n",
        "  create a dict where the keys are numbers and the values are their squares."
      ],
      "metadata": {
        "id": "vI5bLozYt7m9"
      }
    },
    {
      "cell_type": "code",
      "source": [
        "squares={x: x**2 for x in range(1,8)}\n",
        "print(squares)"
      ],
      "metadata": {
        "colab": {
          "base_uri": "https://localhost:8080/"
        },
        "id": "PsQTm3P4uW5e",
        "outputId": "ac9d5ef8-8600-4b7c-f95d-782f27555a78"
      },
      "execution_count": 19,
      "outputs": [
        {
          "output_type": "stream",
          "name": "stdout",
          "text": [
            "{1: 1, 2: 4, 3: 9, 4: 16, 5: 25, 6: 36, 7: 49}\n"
          ]
        }
      ]
    },
    {
      "cell_type": "markdown",
      "source": [
        "# 2. Filter even numbers\n",
        "create a dictionary with only even numbers and their squares"
      ],
      "metadata": {
        "id": "z4HloDlFvzN7"
      }
    },
    {
      "cell_type": "code",
      "source": [
        "evens_dict={x: x**2 for x in range(10) if x%2==0}\n",
        "print(evens_dict)"
      ],
      "metadata": {
        "colab": {
          "base_uri": "https://localhost:8080/"
        },
        "id": "yHEc8sihwAW0",
        "outputId": "de74fd78-be1c-4c8f-f348-ea3a67b73a90"
      },
      "execution_count": 20,
      "outputs": [
        {
          "output_type": "stream",
          "name": "stdout",
          "text": [
            "{0: 0, 2: 4, 4: 16, 6: 36, 8: 64}\n"
          ]
        }
      ]
    },
    {
      "cell_type": "markdown",
      "source": [
        "# 3.Reverse a dictionary\n",
        "Create a dictionary comprehension to swap keys and values in an existing dictionary"
      ],
      "metadata": {
        "id": "q3h2qT3zwWCP"
      }
    },
    {
      "cell_type": "code",
      "source": [
        "original={'a':1,'b':2,'c':3}\n",
        "reversed_dict={v:k for k, v in original.items()}\n",
        "print(reversed_dict)"
      ],
      "metadata": {
        "colab": {
          "base_uri": "https://localhost:8080/"
        },
        "id": "gMTGTTO9wuvB",
        "outputId": "b8157abb-4b17-4196-f1cd-2f17d5746ef9"
      },
      "execution_count": 21,
      "outputs": [
        {
          "output_type": "stream",
          "name": "stdout",
          "text": [
            "{1: 'a', 2: 'b', 3: 'c'}\n"
          ]
        }
      ]
    },
    {
      "cell_type": "markdown",
      "source": [
        "# 4.Convert list to dictionary with lengths\n",
        "Convert a list of strings into a dictionary where the keys are the strings and the values are the length of each string"
      ],
      "metadata": {
        "id": "eopj3nMvxPxd"
      }
    },
    {
      "cell_type": "code",
      "source": [
        "words=[\"apple\",\"banana\",\"cherry\"]\n",
        "length_dict={word: len(word) for word in words}\n",
        "print(length_dict)"
      ],
      "metadata": {
        "colab": {
          "base_uri": "https://localhost:8080/"
        },
        "id": "lyG4mj9Dxjni",
        "outputId": "33de2de4-75aa-4f33-d7b4-269696c6c47c"
      },
      "execution_count": 22,
      "outputs": [
        {
          "output_type": "stream",
          "name": "stdout",
          "text": [
            "{'apple': 5, 'banana': 6, 'cherry': 6}\n"
          ]
        }
      ]
    }
  ]
}
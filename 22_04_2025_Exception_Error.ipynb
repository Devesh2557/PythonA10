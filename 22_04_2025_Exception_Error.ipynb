{
  "nbformat": 4,
  "nbformat_minor": 0,
  "metadata": {
    "colab": {
      "provenance": [],
      "authorship_tag": "ABX9TyMrbpW/5mUEu6wNS+sRPzlj"
    },
    "kernelspec": {
      "name": "python3",
      "display_name": "Python 3"
    },
    "language_info": {
      "name": "python"
    }
  },
  "cells": [
    {
      "cell_type": "code",
      "execution_count": 1,
      "metadata": {
        "id": "TaYtd5gSKpDg"
      },
      "outputs": [],
      "source": [
        "# Exception Handling\n",
        "# (1.) try block -----> Code pass who can exceute.\n",
        "# (2.)   Exception -----> Messgae pass when we show error in our existing code."
      ]
    },
    {
      "cell_type": "code",
      "source": [
        "try :\n",
        "  a=5\n",
        "  b=a/2\n",
        "  # b=a/0\n",
        "  print(b)\n",
        "except Exception as e:\n",
        "  print(\"Please check your value: \",e)"
      ],
      "metadata": {
        "colab": {
          "base_uri": "https://localhost:8080/"
        },
        "id": "5-8p1-ckLADd",
        "outputId": "8ad89b82-8713-4517-e3f2-8fb5a2d2ff2a"
      },
      "execution_count": 4,
      "outputs": [
        {
          "output_type": "stream",
          "name": "stdout",
          "text": [
            "2.5\n"
          ]
        }
      ]
    },
    {
      "cell_type": "code",
      "source": [
        "def exception_handling_examples():\n",
        "  try:\n",
        "    result=10/0\n",
        "    print(result)\n",
        "  except ZeroDivisionError as e:\n",
        "    print(\"You cannot divide by zero:\",e)\n",
        "exception_handling_examples()"
      ],
      "metadata": {
        "colab": {
          "base_uri": "https://localhost:8080/"
        },
        "id": "EgyUZTxRLSWm",
        "outputId": "0a8d0a86-dc95-4b57-fbbb-4b2247433aa8"
      },
      "execution_count": 6,
      "outputs": [
        {
          "output_type": "stream",
          "name": "stdout",
          "text": [
            "You cannot divide by zero: division by zero\n"
          ]
        }
      ]
    },
    {
      "cell_type": "code",
      "source": [
        "def exception_handling_examples():\n",
        "  try:\n",
        "    number=int(input(\"Enter number:\"))    # Raises valueError\n",
        "    print(number)\n",
        "  except ValueError as e :\n",
        "    print(\"You cannot enter characters only pass integers:\",e)\n",
        "exception_handling_examples()"
      ],
      "metadata": {
        "colab": {
          "base_uri": "https://localhost:8080/"
        },
        "id": "O3CuOMLALwC2",
        "outputId": "c52499b3-844f-4961-fde2-d3bfa95dbcac"
      },
      "execution_count": 10,
      "outputs": [
        {
          "output_type": "stream",
          "name": "stdout",
          "text": [
            "Enter number:d\n",
            "You cannot enter characters only pass integers: invalid literal for int() with base 10: 'd'\n"
          ]
        }
      ]
    },
    {
      "cell_type": "code",
      "source": [
        "def exception_handling_examples():\n",
        "  try:\n",
        "    data={\"name\":\"Rahul\"}\n",
        "    print(data[\"name\"])\n",
        "    print(data[\"subject\"])     # Key Error since 'subject' doesn't exist\n",
        "  except KeyError as e:\n",
        "    print(\"Caught a KeyError:\",e)\n",
        "exception_handling_examples()"
      ],
      "metadata": {
        "colab": {
          "base_uri": "https://localhost:8080/"
        },
        "id": "0pg2cvt8MPEe",
        "outputId": "99d4adca-d0c4-49c6-e9fa-0e7e6e2c234e"
      },
      "execution_count": 11,
      "outputs": [
        {
          "output_type": "stream",
          "name": "stdout",
          "text": [
            "Rahul\n",
            "Caught a KeyError: 'subject'\n"
          ]
        }
      ]
    },
    {
      "cell_type": "code",
      "source": [
        "def exception_handling_examples():\n",
        "  try:\n",
        "    my_list=[1,2,3]\n",
        "    print(my_list[1])\n",
        "    print(my_list[6])  # Index Error since index 5 is out of range\n",
        "  except IndexError as e:\n",
        "    print(\"Caught an IndexError:\",e)\n",
        "exception_handling_examples()"
      ],
      "metadata": {
        "colab": {
          "base_uri": "https://localhost:8080/"
        },
        "id": "UNdCNt2qNURC",
        "outputId": "062ff30b-8730-4e78-fb8f-ab850cf00307"
      },
      "execution_count": 12,
      "outputs": [
        {
          "output_type": "stream",
          "name": "stdout",
          "text": [
            "2\n",
            "Caught an IndexError: list index out of range\n"
          ]
        }
      ]
    },
    {
      "cell_type": "code",
      "source": [
        "def exception_handling_examples():\n",
        "  try:\n",
        "    number=int(input(\"string:\"))     # Raises ValueError\n",
        "    result=10/number                # Raises ZeroDivisionError\n",
        "    print(result)\n",
        "  except ZeroDivisionError as e:\n",
        "    print(\"You cannot divide by 0\")\n",
        "  except ValueError as e:\n",
        "    print(\"You cannot divide by characters\")\n",
        "exception_handling_examples()"
      ],
      "metadata": {
        "colab": {
          "base_uri": "https://localhost:8080/"
        },
        "id": "k4sVefm-N6pH",
        "outputId": "ac1df430-2e75-4b27-86de-8f1a79e2c8bc"
      },
      "execution_count": 15,
      "outputs": [
        {
          "output_type": "stream",
          "name": "stdout",
          "text": [
            "string:devesh\n",
            "You cannot divide by characters\n"
          ]
        }
      ]
    }
  ]
}
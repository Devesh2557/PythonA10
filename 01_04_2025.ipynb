{
  "nbformat": 4,
  "nbformat_minor": 0,
  "metadata": {
    "colab": {
      "provenance": [],
      "authorship_tag": "ABX9TyP71v52B61zBXWx8qbxK63Q"
    },
    "kernelspec": {
      "name": "python3",
      "display_name": "Python 3"
    },
    "language_info": {
      "name": "python"
    }
  },
  "cells": [
    {
      "cell_type": "code",
      "execution_count": 6,
      "metadata": {
        "colab": {
          "base_uri": "https://localhost:8080/"
        },
        "id": "OzDSIJ3a1s_b",
        "outputId": "b1d8315e-0ab8-4f1d-f20a-c34efce4fef0"
      },
      "outputs": [
        {
          "output_type": "stream",
          "name": "stdout",
          "text": [
            "*\n",
            "**\n",
            "***\n",
            "****\n",
            "*****\n"
          ]
        }
      ],
      "source": [
        "Q.2 n=5;\n",
        "for i in range(i,n+1):\n",
        "  for j in range(i):\n",
        "    print('*',end='')\n",
        "  print()"
      ]
    },
    {
      "cell_type": "code",
      "source": [
        "# hologram pattern"
      ],
      "metadata": {
        "id": "5pRNHrfy2CXr"
      },
      "execution_count": 7,
      "outputs": []
    },
    {
      "cell_type": "code",
      "source": [
        "n=5 # number of rows\n",
        "for i in range(1,n+1):   #outer loop for rows\n",
        "  for j in range(i):    #inner loop for printing pattern\n",
        "    if j==0 or j==i-1 or i==1 or i==n:\n",
        "      print('*',end='')   #print'*' at first, last position\n",
        "    else:\n",
        "      print(' ',end='') #print space for middle space\n",
        "  print()           #move to the next line after inner loop"
      ],
      "metadata": {
        "colab": {
          "base_uri": "https://localhost:8080/"
        },
        "id": "eGOfocKa2bX4",
        "outputId": "e042eda8-8ad8-4831-e00f-41a860c7090d"
      },
      "execution_count": 10,
      "outputs": [
        {
          "output_type": "stream",
          "name": "stdout",
          "text": [
            "*\n",
            "**\n",
            "* *\n",
            "*  *\n",
            "*****\n"
          ]
        }
      ]
    },
    {
      "cell_type": "code",
      "source": [
        "# pyramid pattern"
      ],
      "metadata": {
        "id": "CrXU0dox25TF"
      },
      "execution_count": 11,
      "outputs": []
    },
    {
      "cell_type": "code",
      "source": [
        "n=5        #number of rows\n",
        "for i in range(1,n+1):    #outer loop for rows\n",
        "  for j in range(n-i):     #Inner loop for rows\n",
        "    print(' ',end='')      #print space\n",
        "  for k in range(2*i-1):   #inner loop for stars\n",
        "    print('*',end='')       #print star\n",
        "  print()                 #move to the next line after inner loop"
      ],
      "metadata": {
        "colab": {
          "base_uri": "https://localhost:8080/"
        },
        "id": "7YtRc13Y38cq",
        "outputId": "18bd4553-e180-4a44-d540-674c45723c0a"
      },
      "execution_count": 13,
      "outputs": [
        {
          "output_type": "stream",
          "name": "stdout",
          "text": [
            "    *\n",
            "   ***\n",
            "  *****\n",
            " *******\n",
            "*********\n"
          ]
        }
      ]
    },
    {
      "cell_type": "code",
      "source": [
        "# inverted pyramid patterns(descending order)"
      ],
      "metadata": {
        "id": "PjMHnCmx4YFc"
      },
      "execution_count": 15,
      "outputs": []
    },
    {
      "cell_type": "code",
      "source": [
        "# n=5\n",
        "# for i in range(n,0,-1):\n",
        "#   for j in range(n-1):\n",
        "#     print(' 'end='')\n",
        "#   for k in range(2*i-1):\n"
      ],
      "metadata": {
        "id": "4JsIfHhA6E6w"
      },
      "execution_count": null,
      "outputs": []
    },
    {
      "cell_type": "code",
      "source": [
        "10//2"
      ],
      "metadata": {
        "colab": {
          "base_uri": "https://localhost:8080/"
        },
        "id": "t2ID8IFa9MNj",
        "outputId": "d7f6f69c-cf38-47c7-d04a-9d7d4d839840"
      },
      "execution_count": 17,
      "outputs": [
        {
          "output_type": "execute_result",
          "data": {
            "text/plain": [
              "5"
            ]
          },
          "metadata": {},
          "execution_count": 17
        }
      ]
    },
    {
      "cell_type": "code",
      "source": [],
      "metadata": {
        "id": "-R0heHkJ9PTN"
      },
      "execution_count": null,
      "outputs": []
    }
  ]
}
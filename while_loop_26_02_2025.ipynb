{
  "nbformat": 4,
  "nbformat_minor": 0,
  "metadata": {
    "colab": {
      "provenance": [],
      "authorship_tag": "ABX9TyNGN6wxCMnOVKDIYfd5Hbx5"
    },
    "kernelspec": {
      "name": "python3",
      "display_name": "Python 3"
    },
    "language_info": {
      "name": "python"
    }
  },
  "cells": [
    {
      "cell_type": "code",
      "execution_count": null,
      "metadata": {
        "colab": {
          "base_uri": "https://localhost:8080/"
        },
        "id": "QFV0U-lGtGpb",
        "outputId": "5d0a10fe-fd5d-41ea-bb1c-a50121e9ba77"
      },
      "outputs": [
        {
          "output_type": "stream",
          "name": "stdout",
          "text": [
            "6\n",
            "4\n"
          ]
        }
      ],
      "source": [
        "i=1234\n",
        "odd=0\n",
        "even=0\n",
        "#odd numebr , Even number\n",
        "\n",
        "while(i>0):\n",
        "  d=i%10\n",
        "  if(d%2==0):\n",
        "    even=even+d\n",
        "  else:\n",
        "    odd=odd+d\n",
        "  i=i//10\n",
        "\n",
        "print(even)\n",
        "print(odd)"
      ]
    },
    {
      "cell_type": "code",
      "source": [
        "# # solution of the code:-\n",
        "\n",
        "# step1:- (i=1234,even=0,odd=0)\n",
        "#         while(1234>0):\n",
        "#           d=1234%10=4\n",
        "#           if(4%2==0):\n",
        "#             even=0+4=4\n",
        "#           i=1234//10=123\n",
        "\n",
        "# step2:- (i=123,even=4,odd=0)\n",
        "#         while(123>0):\n",
        "#           d=123%10=3\n",
        "#           if(3%2==0):\n",
        "#             no\n",
        "#           else:\n",
        "#             odd=0+3=3\n",
        "#           i=123/10=12\n",
        "\n",
        "# step3:- (i=12,even=4,odd=3)\n",
        "#         while(12>0):\n",
        "#           d=12%10\n",
        "#           if()"
      ],
      "metadata": {
        "id": "0REu53ndwnqw"
      },
      "execution_count": null,
      "outputs": []
    },
    {
      "cell_type": "code",
      "source": [
        "# WAP to reverse number"
      ],
      "metadata": {
        "id": "U9zRSy9Gx4bC"
      },
      "execution_count": null,
      "outputs": []
    },
    {
      "cell_type": "code",
      "source": [
        "i=123\n",
        "rev=0\n",
        "while(i>0):\n",
        "  rev=(rev*10)+(i%10)\n",
        "  i=i//10\n",
        "print(rev)"
      ],
      "metadata": {
        "colab": {
          "base_uri": "https://localhost:8080/"
        },
        "id": "9X-OZXf7yEZH",
        "outputId": "ff17d003-55ce-4a36-f334-8738dc0c7d86"
      },
      "execution_count": null,
      "outputs": [
        {
          "output_type": "stream",
          "name": "stdout",
          "text": [
            "321\n"
          ]
        }
      ]
    },
    {
      "cell_type": "code",
      "source": [
        "solution\n",
        "\n",
        "step1:-"
      ],
      "metadata": {
        "id": "o8yWUUf7yujs"
      },
      "execution_count": null,
      "outputs": []
    }
  ]
}